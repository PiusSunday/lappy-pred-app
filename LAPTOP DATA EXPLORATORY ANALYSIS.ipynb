{
 "cells": [
  {
   "cell_type": "markdown",
   "id": "c4468445",
   "metadata": {},
   "source": [
    "## Importing the necessary python libraries to help us perform an EDA on our data!"
   ]
  },
  {
   "cell_type": "code",
   "execution_count": 117,
   "id": "85f3ad5b",
   "metadata": {},
   "outputs": [],
   "source": [
    "import pandas as pd\n",
    "import numpy as np\n",
    "\n",
    "%matplotlib inline\n",
    "import matplotlib.pyplot as plt\n",
    "import seaborn as sns"
   ]
  },
  {
   "cell_type": "markdown",
   "id": "39df66e5",
   "metadata": {},
   "source": [
    "## Reading our data into Jupyter"
   ]
  },
  {
   "cell_type": "code",
   "execution_count": 118,
   "id": "e58dfd43",
   "metadata": {},
   "outputs": [
    {
     "data": {
      "text/html": [
       "<div>\n",
       "<style scoped>\n",
       "    .dataframe tbody tr th:only-of-type {\n",
       "        vertical-align: middle;\n",
       "    }\n",
       "\n",
       "    .dataframe tbody tr th {\n",
       "        vertical-align: top;\n",
       "    }\n",
       "\n",
       "    .dataframe thead th {\n",
       "        text-align: right;\n",
       "    }\n",
       "</style>\n",
       "<table border=\"1\" class=\"dataframe\">\n",
       "  <thead>\n",
       "    <tr style=\"text-align: right;\">\n",
       "      <th></th>\n",
       "      <th>BRAND</th>\n",
       "      <th>CPU BRAND</th>\n",
       "      <th>CPU CORE</th>\n",
       "      <th>CPU GENERATION</th>\n",
       "      <th>CPU FAMILY</th>\n",
       "      <th>RAM SIZE</th>\n",
       "      <th>RAM(DDR) TYPE</th>\n",
       "      <th>DISK TYPE</th>\n",
       "      <th>SSD SIZE</th>\n",
       "      <th>HDD SIZE</th>\n",
       "      <th>GPU BRAND</th>\n",
       "      <th>GPU TYPE</th>\n",
       "      <th>SCREEN SIZE</th>\n",
       "      <th>SCREEN RESOLUTION</th>\n",
       "      <th>STATE</th>\n",
       "      <th>PRICE</th>\n",
       "    </tr>\n",
       "  </thead>\n",
       "  <tbody>\n",
       "    <tr>\n",
       "      <th>0</th>\n",
       "      <td>ASUS</td>\n",
       "      <td>Intel</td>\n",
       "      <td>CELERON</td>\n",
       "      <td>3</td>\n",
       "      <td>U</td>\n",
       "      <td>4</td>\n",
       "      <td>4</td>\n",
       "      <td>HDD</td>\n",
       "      <td>0</td>\n",
       "      <td>500</td>\n",
       "      <td>NVIDIA</td>\n",
       "      <td>GeForce 810M</td>\n",
       "      <td>15.6</td>\n",
       "      <td>HD</td>\n",
       "      <td>USED</td>\n",
       "      <td>54000</td>\n",
       "    </tr>\n",
       "    <tr>\n",
       "      <th>1</th>\n",
       "      <td>LENOVO</td>\n",
       "      <td>Intel</td>\n",
       "      <td>Core i3</td>\n",
       "      <td>4</td>\n",
       "      <td>U</td>\n",
       "      <td>4</td>\n",
       "      <td>4</td>\n",
       "      <td>HDD</td>\n",
       "      <td>0</td>\n",
       "      <td>320</td>\n",
       "      <td>INTEL</td>\n",
       "      <td>INTEGRATED</td>\n",
       "      <td>12.5</td>\n",
       "      <td>HD</td>\n",
       "      <td>USED</td>\n",
       "      <td>49000</td>\n",
       "    </tr>\n",
       "    <tr>\n",
       "      <th>2</th>\n",
       "      <td>ASUS</td>\n",
       "      <td>Intel</td>\n",
       "      <td>Core i3</td>\n",
       "      <td>7</td>\n",
       "      <td>U</td>\n",
       "      <td>4</td>\n",
       "      <td>4</td>\n",
       "      <td>SSD</td>\n",
       "      <td>128</td>\n",
       "      <td>0</td>\n",
       "      <td>INTEL</td>\n",
       "      <td>INTEGRATED</td>\n",
       "      <td>14.1</td>\n",
       "      <td>FHD</td>\n",
       "      <td>USED</td>\n",
       "      <td>56000</td>\n",
       "    </tr>\n",
       "    <tr>\n",
       "      <th>3</th>\n",
       "      <td>LENOVO</td>\n",
       "      <td>Intel</td>\n",
       "      <td>Core i3</td>\n",
       "      <td>6</td>\n",
       "      <td>U</td>\n",
       "      <td>4</td>\n",
       "      <td>4</td>\n",
       "      <td>SSD</td>\n",
       "      <td>256</td>\n",
       "      <td>0</td>\n",
       "      <td>INTEL</td>\n",
       "      <td>INTEGRATED</td>\n",
       "      <td>14.0</td>\n",
       "      <td>HD</td>\n",
       "      <td>USED</td>\n",
       "      <td>59000</td>\n",
       "    </tr>\n",
       "    <tr>\n",
       "      <th>4</th>\n",
       "      <td>LENOVO</td>\n",
       "      <td>Intel</td>\n",
       "      <td>Core i3</td>\n",
       "      <td>6</td>\n",
       "      <td>U</td>\n",
       "      <td>8</td>\n",
       "      <td>4</td>\n",
       "      <td>HDD</td>\n",
       "      <td>0</td>\n",
       "      <td>500</td>\n",
       "      <td>INTEL</td>\n",
       "      <td>INTEGRATED</td>\n",
       "      <td>15.6</td>\n",
       "      <td>HD</td>\n",
       "      <td>USED</td>\n",
       "      <td>59000</td>\n",
       "    </tr>\n",
       "    <tr>\n",
       "      <th>...</th>\n",
       "      <td>...</td>\n",
       "      <td>...</td>\n",
       "      <td>...</td>\n",
       "      <td>...</td>\n",
       "      <td>...</td>\n",
       "      <td>...</td>\n",
       "      <td>...</td>\n",
       "      <td>...</td>\n",
       "      <td>...</td>\n",
       "      <td>...</td>\n",
       "      <td>...</td>\n",
       "      <td>...</td>\n",
       "      <td>...</td>\n",
       "      <td>...</td>\n",
       "      <td>...</td>\n",
       "      <td>...</td>\n",
       "    </tr>\n",
       "    <tr>\n",
       "      <th>124</th>\n",
       "      <td>LENOVO</td>\n",
       "      <td>AMD</td>\n",
       "      <td>Ryzen 7</td>\n",
       "      <td>3</td>\n",
       "      <td>U</td>\n",
       "      <td>16</td>\n",
       "      <td>4</td>\n",
       "      <td>SSD</td>\n",
       "      <td>512</td>\n",
       "      <td>0</td>\n",
       "      <td>AMD</td>\n",
       "      <td>INTEGRATED</td>\n",
       "      <td>14.1</td>\n",
       "      <td>FHD</td>\n",
       "      <td>USED</td>\n",
       "      <td>135000</td>\n",
       "    </tr>\n",
       "    <tr>\n",
       "      <th>125</th>\n",
       "      <td>LENOVO</td>\n",
       "      <td>AMD</td>\n",
       "      <td>Ryzen 7</td>\n",
       "      <td>4</td>\n",
       "      <td>U</td>\n",
       "      <td>16</td>\n",
       "      <td>4</td>\n",
       "      <td>SSD</td>\n",
       "      <td>1024</td>\n",
       "      <td>0</td>\n",
       "      <td>AMD</td>\n",
       "      <td>INTEGRATED</td>\n",
       "      <td>13.3</td>\n",
       "      <td>FHD</td>\n",
       "      <td>USED</td>\n",
       "      <td>145000</td>\n",
       "    </tr>\n",
       "    <tr>\n",
       "      <th>126</th>\n",
       "      <td>ASUS</td>\n",
       "      <td>AMD</td>\n",
       "      <td>Ryzen 7</td>\n",
       "      <td>3</td>\n",
       "      <td>H</td>\n",
       "      <td>16</td>\n",
       "      <td>4</td>\n",
       "      <td>SSD</td>\n",
       "      <td>1024</td>\n",
       "      <td>0</td>\n",
       "      <td>NVIDIA</td>\n",
       "      <td>GeForce GTX 1050</td>\n",
       "      <td>15.6</td>\n",
       "      <td>FHD</td>\n",
       "      <td>USED</td>\n",
       "      <td>153000</td>\n",
       "    </tr>\n",
       "    <tr>\n",
       "      <th>127</th>\n",
       "      <td>ASUS</td>\n",
       "      <td>AMD</td>\n",
       "      <td>Ryzen 7</td>\n",
       "      <td>3</td>\n",
       "      <td>H</td>\n",
       "      <td>16</td>\n",
       "      <td>4</td>\n",
       "      <td>SSD</td>\n",
       "      <td>512</td>\n",
       "      <td>0</td>\n",
       "      <td>NVIDIA</td>\n",
       "      <td>GeForce GTX 1650Ti</td>\n",
       "      <td>17.3</td>\n",
       "      <td>FHD</td>\n",
       "      <td>NEW</td>\n",
       "      <td>225000</td>\n",
       "    </tr>\n",
       "    <tr>\n",
       "      <th>128</th>\n",
       "      <td>ASUS</td>\n",
       "      <td>AMD</td>\n",
       "      <td>Ryzen 7</td>\n",
       "      <td>4</td>\n",
       "      <td>H</td>\n",
       "      <td>16</td>\n",
       "      <td>4</td>\n",
       "      <td>SSD</td>\n",
       "      <td>1024</td>\n",
       "      <td>0</td>\n",
       "      <td>NVIDIA</td>\n",
       "      <td>GeForce RTX 2060</td>\n",
       "      <td>15.6</td>\n",
       "      <td>FHD</td>\n",
       "      <td>USED</td>\n",
       "      <td>268000</td>\n",
       "    </tr>\n",
       "  </tbody>\n",
       "</table>\n",
       "<p>129 rows × 16 columns</p>\n",
       "</div>"
      ],
      "text/plain": [
       "      BRAND CPU BRAND CPU CORE  CPU GENERATION CPU FAMILY  RAM SIZE  \\\n",
       "0      ASUS     Intel  CELERON               3          U         4   \n",
       "1    LENOVO     Intel  Core i3               4          U         4   \n",
       "2      ASUS     Intel  Core i3               7          U         4   \n",
       "3    LENOVO     Intel  Core i3               6          U         4   \n",
       "4    LENOVO     Intel  Core i3               6          U         8   \n",
       "..      ...       ...      ...             ...        ...       ...   \n",
       "124  LENOVO       AMD  Ryzen 7               3          U        16   \n",
       "125  LENOVO       AMD  Ryzen 7               4          U        16   \n",
       "126    ASUS       AMD  Ryzen 7               3          H        16   \n",
       "127    ASUS       AMD  Ryzen 7               3          H        16   \n",
       "128    ASUS       AMD  Ryzen 7               4          H        16   \n",
       "\n",
       "     RAM(DDR) TYPE DISK TYPE  SSD SIZE  HDD SIZE GPU BRAND  \\\n",
       "0                4       HDD         0       500    NVIDIA   \n",
       "1                4       HDD         0       320     INTEL   \n",
       "2                4       SSD       128         0     INTEL   \n",
       "3                4       SSD       256         0     INTEL   \n",
       "4                4       HDD         0       500     INTEL   \n",
       "..             ...       ...       ...       ...       ...   \n",
       "124              4       SSD       512         0       AMD   \n",
       "125              4       SSD      1024         0       AMD   \n",
       "126              4       SSD      1024         0    NVIDIA   \n",
       "127              4       SSD       512         0    NVIDIA   \n",
       "128              4       SSD      1024         0    NVIDIA   \n",
       "\n",
       "               GPU TYPE  SCREEN SIZE SCREEN RESOLUTION STATE   PRICE  \n",
       "0          GeForce 810M         15.6                HD  USED   54000  \n",
       "1            INTEGRATED         12.5                HD  USED   49000  \n",
       "2            INTEGRATED         14.1               FHD  USED   56000  \n",
       "3            INTEGRATED         14.0                HD  USED   59000  \n",
       "4            INTEGRATED         15.6                HD  USED   59000  \n",
       "..                  ...          ...               ...   ...     ...  \n",
       "124          INTEGRATED         14.1               FHD  USED  135000  \n",
       "125          INTEGRATED         13.3               FHD  USED  145000  \n",
       "126    GeForce GTX 1050         15.6               FHD  USED  153000  \n",
       "127  GeForce GTX 1650Ti         17.3               FHD   NEW  225000  \n",
       "128    GeForce RTX 2060         15.6               FHD  USED  268000  \n",
       "\n",
       "[129 rows x 16 columns]"
      ]
     },
     "execution_count": 118,
     "metadata": {},
     "output_type": "execute_result"
    }
   ],
   "source": [
    "df = pd.read_excel('cleaned_dataset.xlsx')\n",
    "df"
   ]
  },
  {
   "cell_type": "markdown",
   "id": "edb72897",
   "metadata": {},
   "source": [
    "## Display the number of Rows and Columns of our dataset"
   ]
  },
  {
   "cell_type": "code",
   "execution_count": 119,
   "id": "c8bb0c3e",
   "metadata": {},
   "outputs": [
    {
     "data": {
      "text/plain": [
       "(129, 16)"
      ]
     },
     "execution_count": 119,
     "metadata": {},
     "output_type": "execute_result"
    }
   ],
   "source": [
    "df.shape"
   ]
  },
  {
   "cell_type": "markdown",
   "id": "c5d19f97",
   "metadata": {},
   "source": [
    "## Display the header of each Column"
   ]
  },
  {
   "cell_type": "code",
   "execution_count": 120,
   "id": "e9fad0f4",
   "metadata": {},
   "outputs": [
    {
     "data": {
      "text/plain": [
       "Index(['BRAND', 'CPU BRAND', 'CPU CORE', 'CPU GENERATION', 'CPU FAMILY',\n",
       "       'RAM SIZE', 'RAM(DDR) TYPE', 'DISK TYPE', 'SSD SIZE', 'HDD SIZE',\n",
       "       'GPU BRAND', 'GPU TYPE', 'SCREEN SIZE', 'SCREEN RESOLUTION', 'STATE',\n",
       "       'PRICE'],\n",
       "      dtype='object')"
      ]
     },
     "execution_count": 120,
     "metadata": {},
     "output_type": "execute_result"
    }
   ],
   "source": [
    "df.columns"
   ]
  },
  {
   "cell_type": "markdown",
   "id": "6269f83a",
   "metadata": {},
   "source": [
    "## Check for null values in our dataset"
   ]
  },
  {
   "cell_type": "code",
   "execution_count": 121,
   "id": "ec6cd3b3",
   "metadata": {},
   "outputs": [
    {
     "data": {
      "text/plain": [
       "BRAND                0\n",
       "CPU BRAND            0\n",
       "CPU CORE             0\n",
       "CPU GENERATION       0\n",
       "CPU FAMILY           0\n",
       "RAM SIZE             0\n",
       "RAM(DDR) TYPE        0\n",
       "DISK TYPE            0\n",
       "SSD SIZE             0\n",
       "HDD SIZE             0\n",
       "GPU BRAND            0\n",
       "GPU TYPE             0\n",
       "SCREEN SIZE          0\n",
       "SCREEN RESOLUTION    0\n",
       "STATE                0\n",
       "PRICE                0\n",
       "dtype: int64"
      ]
     },
     "execution_count": 121,
     "metadata": {},
     "output_type": "execute_result"
    }
   ],
   "source": [
    "df.isnull().sum()"
   ]
  },
  {
   "cell_type": "code",
   "execution_count": 122,
   "id": "4c586fd9",
   "metadata": {},
   "outputs": [],
   "source": [
    "data = df"
   ]
  },
  {
   "cell_type": "markdown",
   "id": "34ec8e97",
   "metadata": {},
   "source": [
    "## Name of Label Column"
   ]
  },
  {
   "cell_type": "markdown",
   "id": "4986c8e7",
   "metadata": {},
   "source": [
    "### In this case, our label column is the PRICE Column as it will be unique for each laptop according to it unique properties."
   ]
  },
  {
   "cell_type": "code",
   "execution_count": 123,
   "id": "6b37334a",
   "metadata": {},
   "outputs": [],
   "source": [
    "Label = ['PRICE']"
   ]
  },
  {
   "cell_type": "markdown",
   "id": "66932b27",
   "metadata": {},
   "source": [
    "## Display the DataTypes of each Column"
   ]
  },
  {
   "cell_type": "code",
   "execution_count": 124,
   "id": "defb529f",
   "metadata": {},
   "outputs": [
    {
     "data": {
      "text/plain": [
       "BRAND                 object\n",
       "CPU BRAND             object\n",
       "CPU CORE              object\n",
       "CPU GENERATION         int64\n",
       "CPU FAMILY            object\n",
       "RAM SIZE               int64\n",
       "RAM(DDR) TYPE          int64\n",
       "DISK TYPE             object\n",
       "SSD SIZE               int64\n",
       "HDD SIZE               int64\n",
       "GPU BRAND             object\n",
       "GPU TYPE              object\n",
       "SCREEN SIZE          float64\n",
       "SCREEN RESOLUTION     object\n",
       "STATE                 object\n",
       "PRICE                  int64\n",
       "dtype: object"
      ]
     },
     "execution_count": 124,
     "metadata": {},
     "output_type": "execute_result"
    }
   ],
   "source": [
    "data.dtypes"
   ]
  },
  {
   "cell_type": "markdown",
   "id": "c9a40add",
   "metadata": {},
   "source": [
    "## Display the DataTypes of each Column"
   ]
  },
  {
   "cell_type": "code",
   "execution_count": 125,
   "id": "fa7e138a",
   "metadata": {},
   "outputs": [
    {
     "name": "stdout",
     "output_type": "stream",
     "text": [
      "<class 'pandas.core.frame.DataFrame'>\n",
      "RangeIndex: 129 entries, 0 to 128\n",
      "Data columns (total 16 columns):\n",
      " #   Column             Non-Null Count  Dtype  \n",
      "---  ------             --------------  -----  \n",
      " 0   BRAND              129 non-null    object \n",
      " 1   CPU BRAND          129 non-null    object \n",
      " 2   CPU CORE           129 non-null    object \n",
      " 3   CPU GENERATION     129 non-null    int64  \n",
      " 4   CPU FAMILY         129 non-null    object \n",
      " 5   RAM SIZE           129 non-null    int64  \n",
      " 6   RAM(DDR) TYPE      129 non-null    int64  \n",
      " 7   DISK TYPE          129 non-null    object \n",
      " 8   SSD SIZE           129 non-null    int64  \n",
      " 9   HDD SIZE           129 non-null    int64  \n",
      " 10  GPU BRAND          129 non-null    object \n",
      " 11  GPU TYPE           129 non-null    object \n",
      " 12  SCREEN SIZE        129 non-null    float64\n",
      " 13  SCREEN RESOLUTION  129 non-null    object \n",
      " 14  STATE              129 non-null    object \n",
      " 15  PRICE              129 non-null    int64  \n",
      "dtypes: float64(1), int64(6), object(9)\n",
      "memory usage: 16.2+ KB\n"
     ]
    }
   ],
   "source": [
    "data.info()"
   ]
  },
  {
   "cell_type": "markdown",
   "id": "96f95c51",
   "metadata": {},
   "source": [
    "## Display some Statistics for the Numerical Columns"
   ]
  },
  {
   "cell_type": "code",
   "execution_count": 126,
   "id": "a9b083e1",
   "metadata": {},
   "outputs": [
    {
     "data": {
      "text/html": [
       "<div>\n",
       "<style scoped>\n",
       "    .dataframe tbody tr th:only-of-type {\n",
       "        vertical-align: middle;\n",
       "    }\n",
       "\n",
       "    .dataframe tbody tr th {\n",
       "        vertical-align: top;\n",
       "    }\n",
       "\n",
       "    .dataframe thead th {\n",
       "        text-align: right;\n",
       "    }\n",
       "</style>\n",
       "<table border=\"1\" class=\"dataframe\">\n",
       "  <thead>\n",
       "    <tr style=\"text-align: right;\">\n",
       "      <th></th>\n",
       "      <th>CPU GENERATION</th>\n",
       "      <th>RAM SIZE</th>\n",
       "      <th>RAM(DDR) TYPE</th>\n",
       "      <th>SSD SIZE</th>\n",
       "      <th>HDD SIZE</th>\n",
       "      <th>SCREEN SIZE</th>\n",
       "      <th>PRICE</th>\n",
       "    </tr>\n",
       "  </thead>\n",
       "  <tbody>\n",
       "    <tr>\n",
       "      <th>count</th>\n",
       "      <td>129.000000</td>\n",
       "      <td>129.000000</td>\n",
       "      <td>129.0</td>\n",
       "      <td>129.000000</td>\n",
       "      <td>129.000000</td>\n",
       "      <td>129.000000</td>\n",
       "      <td>129.000000</td>\n",
       "    </tr>\n",
       "    <tr>\n",
       "      <th>mean</th>\n",
       "      <td>7.488372</td>\n",
       "      <td>9.689922</td>\n",
       "      <td>4.0</td>\n",
       "      <td>316.930233</td>\n",
       "      <td>52.558140</td>\n",
       "      <td>14.286822</td>\n",
       "      <td>119796.124031</td>\n",
       "    </tr>\n",
       "    <tr>\n",
       "      <th>std</th>\n",
       "      <td>2.315425</td>\n",
       "      <td>3.908721</td>\n",
       "      <td>0.0</td>\n",
       "      <td>205.872844</td>\n",
       "      <td>147.987959</td>\n",
       "      <td>1.066564</td>\n",
       "      <td>50678.295100</td>\n",
       "    </tr>\n",
       "    <tr>\n",
       "      <th>min</th>\n",
       "      <td>2.000000</td>\n",
       "      <td>4.000000</td>\n",
       "      <td>4.0</td>\n",
       "      <td>0.000000</td>\n",
       "      <td>0.000000</td>\n",
       "      <td>12.400000</td>\n",
       "      <td>39000.000000</td>\n",
       "    </tr>\n",
       "    <tr>\n",
       "      <th>25%</th>\n",
       "      <td>6.000000</td>\n",
       "      <td>8.000000</td>\n",
       "      <td>4.0</td>\n",
       "      <td>256.000000</td>\n",
       "      <td>0.000000</td>\n",
       "      <td>13.300000</td>\n",
       "      <td>83000.000000</td>\n",
       "    </tr>\n",
       "    <tr>\n",
       "      <th>50%</th>\n",
       "      <td>8.000000</td>\n",
       "      <td>8.000000</td>\n",
       "      <td>4.0</td>\n",
       "      <td>256.000000</td>\n",
       "      <td>0.000000</td>\n",
       "      <td>14.100000</td>\n",
       "      <td>105000.000000</td>\n",
       "    </tr>\n",
       "    <tr>\n",
       "      <th>75%</th>\n",
       "      <td>10.000000</td>\n",
       "      <td>16.000000</td>\n",
       "      <td>4.0</td>\n",
       "      <td>512.000000</td>\n",
       "      <td>0.000000</td>\n",
       "      <td>15.600000</td>\n",
       "      <td>144900.000000</td>\n",
       "    </tr>\n",
       "    <tr>\n",
       "      <th>max</th>\n",
       "      <td>11.000000</td>\n",
       "      <td>16.000000</td>\n",
       "      <td>4.0</td>\n",
       "      <td>1024.000000</td>\n",
       "      <td>500.000000</td>\n",
       "      <td>17.300000</td>\n",
       "      <td>268000.000000</td>\n",
       "    </tr>\n",
       "  </tbody>\n",
       "</table>\n",
       "</div>"
      ],
      "text/plain": [
       "       CPU GENERATION    RAM SIZE  RAM(DDR) TYPE     SSD SIZE    HDD SIZE  \\\n",
       "count      129.000000  129.000000          129.0   129.000000  129.000000   \n",
       "mean         7.488372    9.689922            4.0   316.930233   52.558140   \n",
       "std          2.315425    3.908721            0.0   205.872844  147.987959   \n",
       "min          2.000000    4.000000            4.0     0.000000    0.000000   \n",
       "25%          6.000000    8.000000            4.0   256.000000    0.000000   \n",
       "50%          8.000000    8.000000            4.0   256.000000    0.000000   \n",
       "75%         10.000000   16.000000            4.0   512.000000    0.000000   \n",
       "max         11.000000   16.000000            4.0  1024.000000  500.000000   \n",
       "\n",
       "       SCREEN SIZE          PRICE  \n",
       "count   129.000000     129.000000  \n",
       "mean     14.286822  119796.124031  \n",
       "std       1.066564   50678.295100  \n",
       "min      12.400000   39000.000000  \n",
       "25%      13.300000   83000.000000  \n",
       "50%      14.100000  105000.000000  \n",
       "75%      15.600000  144900.000000  \n",
       "max      17.300000  268000.000000  "
      ]
     },
     "execution_count": 126,
     "metadata": {},
     "output_type": "execute_result"
    }
   ],
   "source": [
    "data.describe()"
   ]
  },
  {
   "cell_type": "markdown",
   "id": "1c7bffd6",
   "metadata": {},
   "source": [
    "\n",
    "# DEFINING THE CATEGORICAL COLUMNS\n"
   ]
  },
  {
   "cell_type": "markdown",
   "id": "26b10d01",
   "metadata": {},
   "source": [
    "## Names Of Categories In Our DataFrame Columns"
   ]
  },
  {
   "cell_type": "code",
   "execution_count": 127,
   "id": "36081759",
   "metadata": {},
   "outputs": [
    {
     "data": {
      "text/plain": [
       "['TOSHIBA', 'HP', 'LENOVO', 'APPLE', 'ASUS', 'DELL', 'MICROSOFT', 'ACER']"
      ]
     },
     "execution_count": 127,
     "metadata": {},
     "output_type": "execute_result"
    }
   ],
   "source": [
    "list(set(list(data['BRAND'])))"
   ]
  },
  {
   "cell_type": "code",
   "execution_count": 128,
   "id": "6ee46fc0",
   "metadata": {},
   "outputs": [
    {
     "data": {
      "text/plain": [
       "['AMD', 'Intel']"
      ]
     },
     "execution_count": 128,
     "metadata": {},
     "output_type": "execute_result"
    }
   ],
   "source": [
    "list(set(list(data['CPU BRAND'])))"
   ]
  },
  {
   "cell_type": "code",
   "execution_count": 129,
   "id": "ab2b6339",
   "metadata": {},
   "outputs": [
    {
     "data": {
      "text/plain": [
       "['CELERON', 'Ryzen 7', 'Core i3', 'Core i7', 'Core i5', 'Ryzen 5']"
      ]
     },
     "execution_count": 129,
     "metadata": {},
     "output_type": "execute_result"
    }
   ],
   "source": [
    "list(set(list(data['CPU CORE'])))"
   ]
  },
  {
   "cell_type": "code",
   "execution_count": 130,
   "id": "baba7de4",
   "metadata": {},
   "outputs": [
    {
     "data": {
      "text/plain": [
       "[2, 3, 4, 5, 6, 7, 8, 9, 10, 11]"
      ]
     },
     "execution_count": 130,
     "metadata": {},
     "output_type": "execute_result"
    }
   ],
   "source": [
    "list(set(list(data['CPU GENERATION'])))"
   ]
  },
  {
   "cell_type": "code",
   "execution_count": 131,
   "id": "94df10d5",
   "metadata": {},
   "outputs": [
    {
     "data": {
      "text/plain": [
       "['HQ', 'M', 'H', 'G7', 'G1', 'YU', 'U']"
      ]
     },
     "execution_count": 131,
     "metadata": {},
     "output_type": "execute_result"
    }
   ],
   "source": [
    "list(set(list(data['CPU FAMILY'])))"
   ]
  },
  {
   "cell_type": "code",
   "execution_count": 132,
   "id": "66c8b376",
   "metadata": {},
   "outputs": [
    {
     "data": {
      "text/plain": [
       "[4, 6, 8, 12, 16]"
      ]
     },
     "execution_count": 132,
     "metadata": {},
     "output_type": "execute_result"
    }
   ],
   "source": [
    "list(set(list(data['RAM SIZE'])))"
   ]
  },
  {
   "cell_type": "code",
   "execution_count": 133,
   "id": "e1da2a65",
   "metadata": {},
   "outputs": [
    {
     "data": {
      "text/plain": [
       "[4]"
      ]
     },
     "execution_count": 133,
     "metadata": {},
     "output_type": "execute_result"
    }
   ],
   "source": [
    "list(set(list(data['RAM(DDR) TYPE'])))"
   ]
  },
  {
   "cell_type": "code",
   "execution_count": 134,
   "id": "84d46db5",
   "metadata": {},
   "outputs": [
    {
     "data": {
      "text/plain": [
       "['SSD', 'HDD', 'BOTH']"
      ]
     },
     "execution_count": 134,
     "metadata": {},
     "output_type": "execute_result"
    }
   ],
   "source": [
    "list(set(list(data['DISK TYPE'])))"
   ]
  },
  {
   "cell_type": "code",
   "execution_count": 135,
   "id": "82802678",
   "metadata": {},
   "outputs": [
    {
     "data": {
      "text/plain": [
       "[0, 256, 128, 512, 1024, 180]"
      ]
     },
     "execution_count": 135,
     "metadata": {},
     "output_type": "execute_result"
    }
   ],
   "source": [
    "list(set(list(data['SSD SIZE'])))"
   ]
  },
  {
   "cell_type": "code",
   "execution_count": 136,
   "id": "dfa1cd61",
   "metadata": {},
   "outputs": [
    {
     "data": {
      "text/plain": [
       "[320, 0, 500]"
      ]
     },
     "execution_count": 136,
     "metadata": {},
     "output_type": "execute_result"
    }
   ],
   "source": [
    "list(set(list(data['HDD SIZE'])))"
   ]
  },
  {
   "cell_type": "code",
   "execution_count": 137,
   "id": "c9dcbf84",
   "metadata": {},
   "outputs": [
    {
     "data": {
      "text/plain": [
       "['AMD', 'INTEL', 'NVIDIA']"
      ]
     },
     "execution_count": 137,
     "metadata": {},
     "output_type": "execute_result"
    }
   ],
   "source": [
    "list(set(list(data['GPU BRAND'])))"
   ]
  },
  {
   "cell_type": "code",
   "execution_count": 138,
   "id": "676fbe36",
   "metadata": {},
   "outputs": [
    {
     "data": {
      "text/plain": [
       "['GeForce GTX 1650',\n",
       " 'GeForce 940M',\n",
       " 'INTEGRATED',\n",
       " 'RADEON R7 M360',\n",
       " 'QUADRO T2000',\n",
       " 'RADEON PRO 555X',\n",
       " 'GeForce MX230',\n",
       " 'GeForce MX330',\n",
       " 'GeForce GTX 950M',\n",
       " 'GeForce GTX 1050TI',\n",
       " 'RADEON PRO 560A',\n",
       " 'RADEON R5 M330',\n",
       " 'GeForce RTX 2060',\n",
       " 'GeForce GTX 1650Ti',\n",
       " 'GeForce 810M',\n",
       " 'GeForce GTX 1050',\n",
       " 'QUADRO P1000',\n",
       " 'QUADRO P520',\n",
       " 'GeForce 940MX']"
      ]
     },
     "execution_count": 138,
     "metadata": {},
     "output_type": "execute_result"
    }
   ],
   "source": [
    "list(set(list(data['GPU TYPE'])))"
   ]
  },
  {
   "cell_type": "code",
   "execution_count": 139,
   "id": "7bf760ba",
   "metadata": {},
   "outputs": [
    {
     "data": {
      "text/plain": [
       "[12.5, 13.3, 14.0, 14.1, 15.6, 17.0, 15.0, 13.5, 12.4, 13.0, 15.4, 15.5, 17.3]"
      ]
     },
     "execution_count": 139,
     "metadata": {},
     "output_type": "execute_result"
    }
   ],
   "source": [
    "list(set(list(data['SCREEN SIZE'])))"
   ]
  },
  {
   "cell_type": "code",
   "execution_count": 140,
   "id": "5a481eab",
   "metadata": {},
   "outputs": [
    {
     "data": {
      "text/plain": [
       "['UHD', 'FHD', 'HD', 'QHD']"
      ]
     },
     "execution_count": 140,
     "metadata": {},
     "output_type": "execute_result"
    }
   ],
   "source": [
    "list(set(list(data['SCREEN RESOLUTION'])))"
   ]
  },
  {
   "cell_type": "code",
   "execution_count": 141,
   "id": "70f54af8",
   "metadata": {},
   "outputs": [
    {
     "data": {
      "text/plain": [
       "['USED', 'NEW']"
      ]
     },
     "execution_count": 141,
     "metadata": {},
     "output_type": "execute_result"
    }
   ],
   "source": [
    "list(set(list(data['STATE'])))"
   ]
  },
  {
   "cell_type": "code",
   "execution_count": null,
   "id": "7b9b7b92",
   "metadata": {},
   "outputs": [],
   "source": []
  },
  {
   "cell_type": "code",
   "execution_count": null,
   "id": "eadb41d9",
   "metadata": {},
   "outputs": [],
   "source": []
  },
  {
   "cell_type": "markdown",
   "id": "ed203117",
   "metadata": {},
   "source": [
    "## Number Of Categories In Our DataFrame Columns"
   ]
  },
  {
   "cell_type": "code",
   "execution_count": 142,
   "id": "503b3914",
   "metadata": {},
   "outputs": [
    {
     "data": {
      "text/plain": [
       "8"
      ]
     },
     "execution_count": 142,
     "metadata": {},
     "output_type": "execute_result"
    }
   ],
   "source": [
    "data['BRAND'].value_counts().count()"
   ]
  },
  {
   "cell_type": "code",
   "execution_count": 143,
   "id": "17c5735f",
   "metadata": {},
   "outputs": [
    {
     "data": {
      "text/plain": [
       "2"
      ]
     },
     "execution_count": 143,
     "metadata": {},
     "output_type": "execute_result"
    }
   ],
   "source": [
    "data['CPU BRAND'].value_counts().count()"
   ]
  },
  {
   "cell_type": "code",
   "execution_count": 144,
   "id": "72651c07",
   "metadata": {},
   "outputs": [
    {
     "data": {
      "text/plain": [
       "6"
      ]
     },
     "execution_count": 144,
     "metadata": {},
     "output_type": "execute_result"
    }
   ],
   "source": [
    "data['CPU CORE'].value_counts().count()"
   ]
  },
  {
   "cell_type": "code",
   "execution_count": 145,
   "id": "a8959ed8",
   "metadata": {},
   "outputs": [
    {
     "data": {
      "text/plain": [
       "10"
      ]
     },
     "execution_count": 145,
     "metadata": {},
     "output_type": "execute_result"
    }
   ],
   "source": [
    "data['CPU GENERATION'].value_counts().count()"
   ]
  },
  {
   "cell_type": "code",
   "execution_count": 146,
   "id": "5c694d44",
   "metadata": {},
   "outputs": [
    {
     "data": {
      "text/plain": [
       "7"
      ]
     },
     "execution_count": 146,
     "metadata": {},
     "output_type": "execute_result"
    }
   ],
   "source": [
    "data['CPU FAMILY'].value_counts().count()"
   ]
  },
  {
   "cell_type": "code",
   "execution_count": 147,
   "id": "3babc24b",
   "metadata": {},
   "outputs": [
    {
     "data": {
      "text/plain": [
       "5"
      ]
     },
     "execution_count": 147,
     "metadata": {},
     "output_type": "execute_result"
    }
   ],
   "source": [
    "data['RAM SIZE'].value_counts().count()"
   ]
  },
  {
   "cell_type": "code",
   "execution_count": 148,
   "id": "0a860f39",
   "metadata": {},
   "outputs": [
    {
     "data": {
      "text/plain": [
       "1"
      ]
     },
     "execution_count": 148,
     "metadata": {},
     "output_type": "execute_result"
    }
   ],
   "source": [
    "data['RAM(DDR) TYPE'].value_counts().count()"
   ]
  },
  {
   "cell_type": "code",
   "execution_count": 149,
   "id": "c02f22a2",
   "metadata": {},
   "outputs": [
    {
     "data": {
      "text/plain": [
       "3"
      ]
     },
     "execution_count": 149,
     "metadata": {},
     "output_type": "execute_result"
    }
   ],
   "source": [
    "data['DISK TYPE'].value_counts().count()"
   ]
  },
  {
   "cell_type": "code",
   "execution_count": 150,
   "id": "90257671",
   "metadata": {},
   "outputs": [
    {
     "data": {
      "text/plain": [
       "6"
      ]
     },
     "execution_count": 150,
     "metadata": {},
     "output_type": "execute_result"
    }
   ],
   "source": [
    "data['SSD SIZE'].value_counts().count()"
   ]
  },
  {
   "cell_type": "code",
   "execution_count": 151,
   "id": "cce662e2",
   "metadata": {},
   "outputs": [
    {
     "data": {
      "text/plain": [
       "3"
      ]
     },
     "execution_count": 151,
     "metadata": {},
     "output_type": "execute_result"
    }
   ],
   "source": [
    "data['HDD SIZE'].value_counts().count()"
   ]
  },
  {
   "cell_type": "code",
   "execution_count": 152,
   "id": "e53ca41e",
   "metadata": {},
   "outputs": [
    {
     "data": {
      "text/plain": [
       "3"
      ]
     },
     "execution_count": 152,
     "metadata": {},
     "output_type": "execute_result"
    }
   ],
   "source": [
    "data['GPU BRAND'].value_counts().count()"
   ]
  },
  {
   "cell_type": "code",
   "execution_count": 153,
   "id": "9939b142",
   "metadata": {},
   "outputs": [
    {
     "data": {
      "text/plain": [
       "19"
      ]
     },
     "execution_count": 153,
     "metadata": {},
     "output_type": "execute_result"
    }
   ],
   "source": [
    "data['GPU TYPE'].value_counts().count()"
   ]
  },
  {
   "cell_type": "code",
   "execution_count": 154,
   "id": "b4bda0ce",
   "metadata": {},
   "outputs": [
    {
     "data": {
      "text/plain": [
       "13"
      ]
     },
     "execution_count": 154,
     "metadata": {},
     "output_type": "execute_result"
    }
   ],
   "source": [
    "data['SCREEN SIZE'].value_counts().count()"
   ]
  },
  {
   "cell_type": "code",
   "execution_count": 155,
   "id": "bffaa87f",
   "metadata": {},
   "outputs": [
    {
     "data": {
      "text/plain": [
       "4"
      ]
     },
     "execution_count": 155,
     "metadata": {},
     "output_type": "execute_result"
    }
   ],
   "source": [
    "data['SCREEN RESOLUTION'].value_counts().count()"
   ]
  },
  {
   "cell_type": "code",
   "execution_count": 156,
   "id": "4103ab9d",
   "metadata": {},
   "outputs": [
    {
     "data": {
      "text/plain": [
       "2"
      ]
     },
     "execution_count": 156,
     "metadata": {},
     "output_type": "execute_result"
    }
   ],
   "source": [
    "data['STATE'].value_counts().count()"
   ]
  },
  {
   "cell_type": "markdown",
   "id": "d2240a65",
   "metadata": {},
   "source": [
    "## Number Of Individuals In Each Categories Of Our DataFrame"
   ]
  },
  {
   "cell_type": "code",
   "execution_count": 157,
   "id": "894a3fec",
   "metadata": {},
   "outputs": [
    {
     "data": {
      "text/plain": [
       "LENOVO       36\n",
       "HP           27\n",
       "ASUS         26\n",
       "APPLE        14\n",
       "DELL         14\n",
       "ACER          8\n",
       "MICROSOFT     3\n",
       "TOSHIBA       1\n",
       "Name: BRAND, dtype: int64"
      ]
     },
     "execution_count": 157,
     "metadata": {},
     "output_type": "execute_result"
    }
   ],
   "source": [
    "data['BRAND'].value_counts()"
   ]
  },
  {
   "cell_type": "code",
   "execution_count": 158,
   "id": "45637398",
   "metadata": {},
   "outputs": [
    {
     "data": {
      "text/plain": [
       "Intel    116\n",
       "AMD       13\n",
       "Name: CPU BRAND, dtype: int64"
      ]
     },
     "execution_count": 158,
     "metadata": {},
     "output_type": "execute_result"
    }
   ],
   "source": [
    "data['CPU BRAND'].value_counts()"
   ]
  },
  {
   "cell_type": "code",
   "execution_count": 159,
   "id": "35e7ac80",
   "metadata": {},
   "outputs": [
    {
     "data": {
      "text/plain": [
       "Core i5    65\n",
       "Core i7    33\n",
       "Core i3    17\n",
       "Ryzen 5     8\n",
       "Ryzen 7     5\n",
       "CELERON     1\n",
       "Name: CPU CORE, dtype: int64"
      ]
     },
     "execution_count": 159,
     "metadata": {},
     "output_type": "execute_result"
    }
   ],
   "source": [
    "data['CPU CORE'].value_counts()"
   ]
  },
  {
   "cell_type": "code",
   "execution_count": 160,
   "id": "15b94ee7",
   "metadata": {},
   "outputs": [
    {
     "data": {
      "text/plain": [
       "8     39\n",
       "10    26\n",
       "6     18\n",
       "7     13\n",
       "3     10\n",
       "4      9\n",
       "11     9\n",
       "5      2\n",
       "9      2\n",
       "2      1\n",
       "Name: CPU GENERATION, dtype: int64"
      ]
     },
     "execution_count": 160,
     "metadata": {},
     "output_type": "execute_result"
    }
   ],
   "source": [
    "data['CPU GENERATION'].value_counts()"
   ]
  },
  {
   "cell_type": "code",
   "execution_count": 161,
   "id": "ddafdb65",
   "metadata": {},
   "outputs": [
    {
     "data": {
      "text/plain": [
       "U     104\n",
       "H      10\n",
       "HQ      6\n",
       "G1      3\n",
       "YU      3\n",
       "M       2\n",
       "G7      1\n",
       "Name: CPU FAMILY, dtype: int64"
      ]
     },
     "execution_count": 161,
     "metadata": {},
     "output_type": "execute_result"
    }
   ],
   "source": [
    "data['CPU FAMILY'].value_counts()"
   ]
  },
  {
   "cell_type": "code",
   "execution_count": 162,
   "id": "b947a4c8",
   "metadata": {},
   "outputs": [
    {
     "data": {
      "text/plain": [
       "8     82\n",
       "16    33\n",
       "4     12\n",
       "12     1\n",
       "6      1\n",
       "Name: RAM SIZE, dtype: int64"
      ]
     },
     "execution_count": 162,
     "metadata": {},
     "output_type": "execute_result"
    }
   ],
   "source": [
    "data['RAM SIZE'].value_counts()"
   ]
  },
  {
   "cell_type": "code",
   "execution_count": 163,
   "id": "e93100d1",
   "metadata": {},
   "outputs": [
    {
     "data": {
      "text/plain": [
       "4    129\n",
       "Name: RAM(DDR) TYPE, dtype: int64"
      ]
     },
     "execution_count": 163,
     "metadata": {},
     "output_type": "execute_result"
    }
   ],
   "source": [
    "data['RAM(DDR) TYPE'].value_counts()"
   ]
  },
  {
   "cell_type": "code",
   "execution_count": 164,
   "id": "397f6795",
   "metadata": {},
   "outputs": [
    {
     "data": {
      "text/plain": [
       "SSD     114\n",
       "HDD      13\n",
       "BOTH      2\n",
       "Name: DISK TYPE, dtype: int64"
      ]
     },
     "execution_count": 164,
     "metadata": {},
     "output_type": "execute_result"
    }
   ],
   "source": [
    "data['DISK TYPE'].value_counts()"
   ]
  },
  {
   "cell_type": "code",
   "execution_count": 165,
   "id": "96d23e83",
   "metadata": {},
   "outputs": [
    {
     "data": {
      "text/plain": [
       "256     61\n",
       "512     38\n",
       "0       13\n",
       "128     12\n",
       "1024     4\n",
       "180      1\n",
       "Name: SSD SIZE, dtype: int64"
      ]
     },
     "execution_count": 165,
     "metadata": {},
     "output_type": "execute_result"
    }
   ],
   "source": [
    "data['SSD SIZE'].value_counts()"
   ]
  },
  {
   "cell_type": "code",
   "execution_count": 166,
   "id": "6106aa89",
   "metadata": {},
   "outputs": [
    {
     "data": {
      "text/plain": [
       "0      114\n",
       "500     11\n",
       "320      4\n",
       "Name: HDD SIZE, dtype: int64"
      ]
     },
     "execution_count": 166,
     "metadata": {},
     "output_type": "execute_result"
    }
   ],
   "source": [
    "data['HDD SIZE'].value_counts()"
   ]
  },
  {
   "cell_type": "code",
   "execution_count": 167,
   "id": "51c4dbce",
   "metadata": {},
   "outputs": [
    {
     "data": {
      "text/plain": [
       "INTEL     96\n",
       "NVIDIA    20\n",
       "AMD       13\n",
       "Name: GPU BRAND, dtype: int64"
      ]
     },
     "execution_count": 167,
     "metadata": {},
     "output_type": "execute_result"
    }
   ],
   "source": [
    "data['GPU BRAND'].value_counts()"
   ]
  },
  {
   "cell_type": "code",
   "execution_count": 168,
   "id": "05b4d1bd",
   "metadata": {},
   "outputs": [
    {
     "data": {
      "text/plain": [
       "INTEGRATED            105\n",
       "GeForce GTX 1050        5\n",
       "RADEON PRO 555X         2\n",
       "GeForce GTX 1650Ti      2\n",
       "GeForce 810M            1\n",
       "GeForce GTX 1050TI      1\n",
       "QUADRO T2000            1\n",
       "QUADRO P1000            1\n",
       "QUADRO P520             1\n",
       "GeForce GTX 1650        1\n",
       "RADEON PRO 560A         1\n",
       "GeForce 940M            1\n",
       "GeForce 940MX           1\n",
       "RADEON R7 M360          1\n",
       "GeForce MX330           1\n",
       "GeForce MX230           1\n",
       "GeForce GTX 950M        1\n",
       "RADEON R5 M330          1\n",
       "GeForce RTX 2060        1\n",
       "Name: GPU TYPE, dtype: int64"
      ]
     },
     "execution_count": 168,
     "metadata": {},
     "output_type": "execute_result"
    }
   ],
   "source": [
    "data['GPU TYPE'].value_counts()"
   ]
  },
  {
   "cell_type": "code",
   "execution_count": 169,
   "id": "66cc3c49",
   "metadata": {},
   "outputs": [
    {
     "data": {
      "text/plain": [
       "15.6    32\n",
       "13.3    28\n",
       "14.1    25\n",
       "14.0    22\n",
       "12.5     6\n",
       "13.0     4\n",
       "15.0     3\n",
       "15.4     3\n",
       "17.0     2\n",
       "13.5     1\n",
       "12.4     1\n",
       "15.5     1\n",
       "17.3     1\n",
       "Name: SCREEN SIZE, dtype: int64"
      ]
     },
     "execution_count": 169,
     "metadata": {},
     "output_type": "execute_result"
    }
   ],
   "source": [
    "data['SCREEN SIZE'].value_counts()"
   ]
  },
  {
   "cell_type": "code",
   "execution_count": 170,
   "id": "5cb9ea98",
   "metadata": {},
   "outputs": [
    {
     "data": {
      "text/plain": [
       "FHD    92\n",
       "HD     21\n",
       "QHD    12\n",
       "UHD     4\n",
       "Name: SCREEN RESOLUTION, dtype: int64"
      ]
     },
     "execution_count": 170,
     "metadata": {},
     "output_type": "execute_result"
    }
   ],
   "source": [
    "data['SCREEN RESOLUTION'].value_counts()"
   ]
  },
  {
   "cell_type": "code",
   "execution_count": 171,
   "id": "1fabe3e5",
   "metadata": {},
   "outputs": [
    {
     "data": {
      "text/plain": [
       "USED    106\n",
       "NEW      23\n",
       "Name: STATE, dtype: int64"
      ]
     },
     "execution_count": 171,
     "metadata": {},
     "output_type": "execute_result"
    }
   ],
   "source": [
    "data['STATE'].value_counts()"
   ]
  },
  {
   "cell_type": "markdown",
   "id": "91efb5c3",
   "metadata": {},
   "source": [
    "## Checking If The Category Can Be Ordered"
   ]
  },
  {
   "cell_type": "code",
   "execution_count": 172,
   "id": "027b85fa",
   "metadata": {},
   "outputs": [
    {
     "data": {
      "text/plain": [
       "False"
      ]
     },
     "execution_count": 172,
     "metadata": {},
     "output_type": "execute_result"
    }
   ],
   "source": [
    "x = pd.Series(['BRAND'], dtype=\"category\")\n",
    "\n",
    "x.cat.categories\n",
    "\n",
    "x.cat.ordered"
   ]
  },
  {
   "cell_type": "code",
   "execution_count": 173,
   "id": "32e2eba7",
   "metadata": {},
   "outputs": [
    {
     "data": {
      "text/plain": [
       "False"
      ]
     },
     "execution_count": 173,
     "metadata": {},
     "output_type": "execute_result"
    }
   ],
   "source": [
    "x = pd.Series(['CPU BRAND'], dtype=\"category\")\n",
    "\n",
    "x.cat.categories\n",
    "\n",
    "x.cat.ordered"
   ]
  },
  {
   "cell_type": "code",
   "execution_count": 174,
   "id": "8455ea8c",
   "metadata": {},
   "outputs": [
    {
     "data": {
      "text/plain": [
       "False"
      ]
     },
     "execution_count": 174,
     "metadata": {},
     "output_type": "execute_result"
    }
   ],
   "source": [
    "x = pd.Series(['CPU CORE'], dtype=\"category\")\n",
    "\n",
    "x.cat.categories\n",
    "\n",
    "x.cat.ordered"
   ]
  },
  {
   "cell_type": "code",
   "execution_count": 175,
   "id": "76d4e58d",
   "metadata": {},
   "outputs": [
    {
     "data": {
      "text/plain": [
       "False"
      ]
     },
     "execution_count": 175,
     "metadata": {},
     "output_type": "execute_result"
    }
   ],
   "source": [
    "x = pd.Series(['CPU FAMILY'], dtype=\"category\")\n",
    "\n",
    "x.cat.categories\n",
    "\n",
    "x.cat.ordered"
   ]
  },
  {
   "cell_type": "code",
   "execution_count": 176,
   "id": "68e0c29a",
   "metadata": {},
   "outputs": [
    {
     "data": {
      "text/plain": [
       "False"
      ]
     },
     "execution_count": 176,
     "metadata": {},
     "output_type": "execute_result"
    }
   ],
   "source": [
    "x = pd.Series(['DISK TYPE'], dtype=\"category\")\n",
    "\n",
    "x.cat.categories\n",
    "\n",
    "x.cat.ordered"
   ]
  },
  {
   "cell_type": "code",
   "execution_count": 177,
   "id": "bad9794d",
   "metadata": {},
   "outputs": [
    {
     "data": {
      "text/plain": [
       "False"
      ]
     },
     "execution_count": 177,
     "metadata": {},
     "output_type": "execute_result"
    }
   ],
   "source": [
    "x = pd.Series(['GPU BRAND'], dtype=\"category\")\n",
    "\n",
    "x.cat.categories\n",
    "\n",
    "x.cat.ordered"
   ]
  },
  {
   "cell_type": "code",
   "execution_count": 178,
   "id": "c9ed7c0a",
   "metadata": {},
   "outputs": [
    {
     "data": {
      "text/plain": [
       "False"
      ]
     },
     "execution_count": 178,
     "metadata": {},
     "output_type": "execute_result"
    }
   ],
   "source": [
    "x = pd.Series(['GPU TYPE'], dtype=\"category\")\n",
    "\n",
    "x.cat.categories\n",
    "\n",
    "x.cat.ordered"
   ]
  },
  {
   "cell_type": "code",
   "execution_count": 179,
   "id": "07c77730",
   "metadata": {},
   "outputs": [
    {
     "data": {
      "text/plain": [
       "False"
      ]
     },
     "execution_count": 179,
     "metadata": {},
     "output_type": "execute_result"
    }
   ],
   "source": [
    "x = pd.Series(['SCREEN RESOLUTION'], dtype=\"category\")\n",
    "\n",
    "x.cat.categories\n",
    "\n",
    "x.cat.ordered"
   ]
  },
  {
   "cell_type": "code",
   "execution_count": 180,
   "id": "704b4aed",
   "metadata": {},
   "outputs": [
    {
     "data": {
      "text/plain": [
       "False"
      ]
     },
     "execution_count": 180,
     "metadata": {},
     "output_type": "execute_result"
    }
   ],
   "source": [
    "x = pd.Series(['STATE'], dtype=\"category\")\n",
    "\n",
    "x.cat.categories\n",
    "\n",
    "x.cat.ordered"
   ]
  },
  {
   "cell_type": "markdown",
   "id": "30664f7c",
   "metadata": {},
   "source": [
    "## Using crosstab() function to compute a simple cross-tabulation of two (or more) columns. "
   ]
  },
  {
   "cell_type": "code",
   "execution_count": 181,
   "id": "54ea4d5a",
   "metadata": {},
   "outputs": [
    {
     "data": {
      "text/html": [
       "<div>\n",
       "<style scoped>\n",
       "    .dataframe tbody tr th:only-of-type {\n",
       "        vertical-align: middle;\n",
       "    }\n",
       "\n",
       "    .dataframe tbody tr th {\n",
       "        vertical-align: top;\n",
       "    }\n",
       "\n",
       "    .dataframe thead th {\n",
       "        text-align: right;\n",
       "    }\n",
       "</style>\n",
       "<table border=\"1\" class=\"dataframe\">\n",
       "  <thead>\n",
       "    <tr style=\"text-align: right;\">\n",
       "      <th>STATE</th>\n",
       "      <th>NEW</th>\n",
       "      <th>USED</th>\n",
       "    </tr>\n",
       "    <tr>\n",
       "      <th>BRAND</th>\n",
       "      <th></th>\n",
       "      <th></th>\n",
       "    </tr>\n",
       "  </thead>\n",
       "  <tbody>\n",
       "    <tr>\n",
       "      <th>ACER</th>\n",
       "      <td>1</td>\n",
       "      <td>7</td>\n",
       "    </tr>\n",
       "    <tr>\n",
       "      <th>APPLE</th>\n",
       "      <td>0</td>\n",
       "      <td>14</td>\n",
       "    </tr>\n",
       "    <tr>\n",
       "      <th>ASUS</th>\n",
       "      <td>5</td>\n",
       "      <td>21</td>\n",
       "    </tr>\n",
       "    <tr>\n",
       "      <th>DELL</th>\n",
       "      <td>0</td>\n",
       "      <td>14</td>\n",
       "    </tr>\n",
       "    <tr>\n",
       "      <th>HP</th>\n",
       "      <td>11</td>\n",
       "      <td>16</td>\n",
       "    </tr>\n",
       "    <tr>\n",
       "      <th>LENOVO</th>\n",
       "      <td>4</td>\n",
       "      <td>32</td>\n",
       "    </tr>\n",
       "    <tr>\n",
       "      <th>MICROSOFT</th>\n",
       "      <td>2</td>\n",
       "      <td>1</td>\n",
       "    </tr>\n",
       "    <tr>\n",
       "      <th>TOSHIBA</th>\n",
       "      <td>0</td>\n",
       "      <td>1</td>\n",
       "    </tr>\n",
       "  </tbody>\n",
       "</table>\n",
       "</div>"
      ],
      "text/plain": [
       "STATE      NEW  USED\n",
       "BRAND               \n",
       "ACER         1     7\n",
       "APPLE        0    14\n",
       "ASUS         5    21\n",
       "DELL         0    14\n",
       "HP          11    16\n",
       "LENOVO       4    32\n",
       "MICROSOFT    2     1\n",
       "TOSHIBA      0     1"
      ]
     },
     "execution_count": 181,
     "metadata": {},
     "output_type": "execute_result"
    }
   ],
   "source": [
    "pd.crosstab(data['BRAND'], data['STATE'])"
   ]
  },
  {
   "cell_type": "code",
   "execution_count": 182,
   "id": "4460973f",
   "metadata": {},
   "outputs": [
    {
     "data": {
      "text/html": [
       "<div>\n",
       "<style scoped>\n",
       "    .dataframe tbody tr th:only-of-type {\n",
       "        vertical-align: middle;\n",
       "    }\n",
       "\n",
       "    .dataframe tbody tr th {\n",
       "        vertical-align: top;\n",
       "    }\n",
       "\n",
       "    .dataframe thead th {\n",
       "        text-align: right;\n",
       "    }\n",
       "</style>\n",
       "<table border=\"1\" class=\"dataframe\">\n",
       "  <thead>\n",
       "    <tr style=\"text-align: right;\">\n",
       "      <th>RAM SIZE</th>\n",
       "      <th>4</th>\n",
       "      <th>6</th>\n",
       "      <th>8</th>\n",
       "      <th>12</th>\n",
       "      <th>16</th>\n",
       "    </tr>\n",
       "    <tr>\n",
       "      <th>BRAND</th>\n",
       "      <th></th>\n",
       "      <th></th>\n",
       "      <th></th>\n",
       "      <th></th>\n",
       "      <th></th>\n",
       "    </tr>\n",
       "  </thead>\n",
       "  <tbody>\n",
       "    <tr>\n",
       "      <th>ACER</th>\n",
       "      <td>2</td>\n",
       "      <td>0</td>\n",
       "      <td>4</td>\n",
       "      <td>1</td>\n",
       "      <td>1</td>\n",
       "    </tr>\n",
       "    <tr>\n",
       "      <th>APPLE</th>\n",
       "      <td>1</td>\n",
       "      <td>0</td>\n",
       "      <td>9</td>\n",
       "      <td>0</td>\n",
       "      <td>4</td>\n",
       "    </tr>\n",
       "    <tr>\n",
       "      <th>ASUS</th>\n",
       "      <td>4</td>\n",
       "      <td>1</td>\n",
       "      <td>17</td>\n",
       "      <td>0</td>\n",
       "      <td>4</td>\n",
       "    </tr>\n",
       "    <tr>\n",
       "      <th>DELL</th>\n",
       "      <td>0</td>\n",
       "      <td>0</td>\n",
       "      <td>8</td>\n",
       "      <td>0</td>\n",
       "      <td>6</td>\n",
       "    </tr>\n",
       "    <tr>\n",
       "      <th>HP</th>\n",
       "      <td>3</td>\n",
       "      <td>0</td>\n",
       "      <td>20</td>\n",
       "      <td>0</td>\n",
       "      <td>4</td>\n",
       "    </tr>\n",
       "    <tr>\n",
       "      <th>LENOVO</th>\n",
       "      <td>2</td>\n",
       "      <td>0</td>\n",
       "      <td>22</td>\n",
       "      <td>0</td>\n",
       "      <td>12</td>\n",
       "    </tr>\n",
       "    <tr>\n",
       "      <th>MICROSOFT</th>\n",
       "      <td>0</td>\n",
       "      <td>0</td>\n",
       "      <td>1</td>\n",
       "      <td>0</td>\n",
       "      <td>2</td>\n",
       "    </tr>\n",
       "    <tr>\n",
       "      <th>TOSHIBA</th>\n",
       "      <td>0</td>\n",
       "      <td>0</td>\n",
       "      <td>1</td>\n",
       "      <td>0</td>\n",
       "      <td>0</td>\n",
       "    </tr>\n",
       "  </tbody>\n",
       "</table>\n",
       "</div>"
      ],
      "text/plain": [
       "RAM SIZE   4   6   8   12  16\n",
       "BRAND                        \n",
       "ACER        2   0   4   1   1\n",
       "APPLE       1   0   9   0   4\n",
       "ASUS        4   1  17   0   4\n",
       "DELL        0   0   8   0   6\n",
       "HP          3   0  20   0   4\n",
       "LENOVO      2   0  22   0  12\n",
       "MICROSOFT   0   0   1   0   2\n",
       "TOSHIBA     0   0   1   0   0"
      ]
     },
     "execution_count": 182,
     "metadata": {},
     "output_type": "execute_result"
    }
   ],
   "source": [
    "pd.crosstab(data['BRAND'], data['RAM SIZE'])"
   ]
  },
  {
   "cell_type": "code",
   "execution_count": 183,
   "id": "37908d6b",
   "metadata": {},
   "outputs": [
    {
     "data": {
      "text/html": [
       "<div>\n",
       "<style scoped>\n",
       "    .dataframe tbody tr th:only-of-type {\n",
       "        vertical-align: middle;\n",
       "    }\n",
       "\n",
       "    .dataframe tbody tr th {\n",
       "        vertical-align: top;\n",
       "    }\n",
       "\n",
       "    .dataframe thead th {\n",
       "        text-align: right;\n",
       "    }\n",
       "</style>\n",
       "<table border=\"1\" class=\"dataframe\">\n",
       "  <thead>\n",
       "    <tr style=\"text-align: right;\">\n",
       "      <th>DISK TYPE</th>\n",
       "      <th>BOTH</th>\n",
       "      <th>HDD</th>\n",
       "      <th>SSD</th>\n",
       "    </tr>\n",
       "    <tr>\n",
       "      <th>BRAND</th>\n",
       "      <th></th>\n",
       "      <th></th>\n",
       "      <th></th>\n",
       "    </tr>\n",
       "  </thead>\n",
       "  <tbody>\n",
       "    <tr>\n",
       "      <th>ACER</th>\n",
       "      <td>0</td>\n",
       "      <td>3</td>\n",
       "      <td>5</td>\n",
       "    </tr>\n",
       "    <tr>\n",
       "      <th>APPLE</th>\n",
       "      <td>0</td>\n",
       "      <td>0</td>\n",
       "      <td>14</td>\n",
       "    </tr>\n",
       "    <tr>\n",
       "      <th>ASUS</th>\n",
       "      <td>1</td>\n",
       "      <td>4</td>\n",
       "      <td>21</td>\n",
       "    </tr>\n",
       "    <tr>\n",
       "      <th>DELL</th>\n",
       "      <td>0</td>\n",
       "      <td>2</td>\n",
       "      <td>12</td>\n",
       "    </tr>\n",
       "    <tr>\n",
       "      <th>HP</th>\n",
       "      <td>1</td>\n",
       "      <td>2</td>\n",
       "      <td>24</td>\n",
       "    </tr>\n",
       "    <tr>\n",
       "      <th>LENOVO</th>\n",
       "      <td>0</td>\n",
       "      <td>2</td>\n",
       "      <td>34</td>\n",
       "    </tr>\n",
       "    <tr>\n",
       "      <th>MICROSOFT</th>\n",
       "      <td>0</td>\n",
       "      <td>0</td>\n",
       "      <td>3</td>\n",
       "    </tr>\n",
       "    <tr>\n",
       "      <th>TOSHIBA</th>\n",
       "      <td>0</td>\n",
       "      <td>0</td>\n",
       "      <td>1</td>\n",
       "    </tr>\n",
       "  </tbody>\n",
       "</table>\n",
       "</div>"
      ],
      "text/plain": [
       "DISK TYPE  BOTH  HDD  SSD\n",
       "BRAND                    \n",
       "ACER          0    3    5\n",
       "APPLE         0    0   14\n",
       "ASUS          1    4   21\n",
       "DELL          0    2   12\n",
       "HP            1    2   24\n",
       "LENOVO        0    2   34\n",
       "MICROSOFT     0    0    3\n",
       "TOSHIBA       0    0    1"
      ]
     },
     "execution_count": 183,
     "metadata": {},
     "output_type": "execute_result"
    }
   ],
   "source": [
    "pd.crosstab(data['BRAND'], data['DISK TYPE'])"
   ]
  },
  {
   "cell_type": "code",
   "execution_count": 184,
   "id": "ec136cdf",
   "metadata": {},
   "outputs": [
    {
     "data": {
      "text/html": [
       "<div>\n",
       "<style scoped>\n",
       "    .dataframe tbody tr th:only-of-type {\n",
       "        vertical-align: middle;\n",
       "    }\n",
       "\n",
       "    .dataframe tbody tr th {\n",
       "        vertical-align: top;\n",
       "    }\n",
       "\n",
       "    .dataframe thead th {\n",
       "        text-align: right;\n",
       "    }\n",
       "</style>\n",
       "<table border=\"1\" class=\"dataframe\">\n",
       "  <thead>\n",
       "    <tr style=\"text-align: right;\">\n",
       "      <th>CPU CORE</th>\n",
       "      <th>CELERON</th>\n",
       "      <th>Core i3</th>\n",
       "      <th>Core i5</th>\n",
       "      <th>Core i7</th>\n",
       "      <th>Ryzen 5</th>\n",
       "      <th>Ryzen 7</th>\n",
       "    </tr>\n",
       "    <tr>\n",
       "      <th>BRAND</th>\n",
       "      <th></th>\n",
       "      <th></th>\n",
       "      <th></th>\n",
       "      <th></th>\n",
       "      <th></th>\n",
       "      <th></th>\n",
       "    </tr>\n",
       "  </thead>\n",
       "  <tbody>\n",
       "    <tr>\n",
       "      <th>ACER</th>\n",
       "      <td>0</td>\n",
       "      <td>3</td>\n",
       "      <td>5</td>\n",
       "      <td>0</td>\n",
       "      <td>0</td>\n",
       "      <td>0</td>\n",
       "    </tr>\n",
       "    <tr>\n",
       "      <th>APPLE</th>\n",
       "      <td>0</td>\n",
       "      <td>1</td>\n",
       "      <td>9</td>\n",
       "      <td>4</td>\n",
       "      <td>0</td>\n",
       "      <td>0</td>\n",
       "    </tr>\n",
       "    <tr>\n",
       "      <th>ASUS</th>\n",
       "      <td>1</td>\n",
       "      <td>3</td>\n",
       "      <td>8</td>\n",
       "      <td>7</td>\n",
       "      <td>4</td>\n",
       "      <td>3</td>\n",
       "    </tr>\n",
       "    <tr>\n",
       "      <th>DELL</th>\n",
       "      <td>0</td>\n",
       "      <td>0</td>\n",
       "      <td>10</td>\n",
       "      <td>4</td>\n",
       "      <td>0</td>\n",
       "      <td>0</td>\n",
       "    </tr>\n",
       "    <tr>\n",
       "      <th>HP</th>\n",
       "      <td>0</td>\n",
       "      <td>2</td>\n",
       "      <td>17</td>\n",
       "      <td>6</td>\n",
       "      <td>2</td>\n",
       "      <td>0</td>\n",
       "    </tr>\n",
       "    <tr>\n",
       "      <th>LENOVO</th>\n",
       "      <td>0</td>\n",
       "      <td>8</td>\n",
       "      <td>14</td>\n",
       "      <td>10</td>\n",
       "      <td>2</td>\n",
       "      <td>2</td>\n",
       "    </tr>\n",
       "    <tr>\n",
       "      <th>MICROSOFT</th>\n",
       "      <td>0</td>\n",
       "      <td>0</td>\n",
       "      <td>1</td>\n",
       "      <td>2</td>\n",
       "      <td>0</td>\n",
       "      <td>0</td>\n",
       "    </tr>\n",
       "    <tr>\n",
       "      <th>TOSHIBA</th>\n",
       "      <td>0</td>\n",
       "      <td>0</td>\n",
       "      <td>1</td>\n",
       "      <td>0</td>\n",
       "      <td>0</td>\n",
       "      <td>0</td>\n",
       "    </tr>\n",
       "  </tbody>\n",
       "</table>\n",
       "</div>"
      ],
      "text/plain": [
       "CPU CORE   CELERON  Core i3  Core i5  Core i7  Ryzen 5  Ryzen 7\n",
       "BRAND                                                          \n",
       "ACER             0        3        5        0        0        0\n",
       "APPLE            0        1        9        4        0        0\n",
       "ASUS             1        3        8        7        4        3\n",
       "DELL             0        0       10        4        0        0\n",
       "HP               0        2       17        6        2        0\n",
       "LENOVO           0        8       14       10        2        2\n",
       "MICROSOFT        0        0        1        2        0        0\n",
       "TOSHIBA          0        0        1        0        0        0"
      ]
     },
     "execution_count": 184,
     "metadata": {},
     "output_type": "execute_result"
    }
   ],
   "source": [
    "pd.crosstab(data['BRAND'], data['CPU CORE'])"
   ]
  },
  {
   "cell_type": "code",
   "execution_count": 185,
   "id": "2a96a2b6",
   "metadata": {},
   "outputs": [
    {
     "data": {
      "text/html": [
       "<div>\n",
       "<style scoped>\n",
       "    .dataframe tbody tr th:only-of-type {\n",
       "        vertical-align: middle;\n",
       "    }\n",
       "\n",
       "    .dataframe tbody tr th {\n",
       "        vertical-align: top;\n",
       "    }\n",
       "\n",
       "    .dataframe thead th {\n",
       "        text-align: right;\n",
       "    }\n",
       "</style>\n",
       "<table border=\"1\" class=\"dataframe\">\n",
       "  <thead>\n",
       "    <tr style=\"text-align: right;\">\n",
       "      <th>CPU BRAND</th>\n",
       "      <th>AMD</th>\n",
       "      <th>Intel</th>\n",
       "    </tr>\n",
       "    <tr>\n",
       "      <th>BRAND</th>\n",
       "      <th></th>\n",
       "      <th></th>\n",
       "    </tr>\n",
       "  </thead>\n",
       "  <tbody>\n",
       "    <tr>\n",
       "      <th>ACER</th>\n",
       "      <td>0</td>\n",
       "      <td>8</td>\n",
       "    </tr>\n",
       "    <tr>\n",
       "      <th>APPLE</th>\n",
       "      <td>0</td>\n",
       "      <td>14</td>\n",
       "    </tr>\n",
       "    <tr>\n",
       "      <th>ASUS</th>\n",
       "      <td>7</td>\n",
       "      <td>19</td>\n",
       "    </tr>\n",
       "    <tr>\n",
       "      <th>DELL</th>\n",
       "      <td>0</td>\n",
       "      <td>14</td>\n",
       "    </tr>\n",
       "    <tr>\n",
       "      <th>HP</th>\n",
       "      <td>2</td>\n",
       "      <td>25</td>\n",
       "    </tr>\n",
       "    <tr>\n",
       "      <th>LENOVO</th>\n",
       "      <td>4</td>\n",
       "      <td>32</td>\n",
       "    </tr>\n",
       "    <tr>\n",
       "      <th>MICROSOFT</th>\n",
       "      <td>0</td>\n",
       "      <td>3</td>\n",
       "    </tr>\n",
       "    <tr>\n",
       "      <th>TOSHIBA</th>\n",
       "      <td>0</td>\n",
       "      <td>1</td>\n",
       "    </tr>\n",
       "  </tbody>\n",
       "</table>\n",
       "</div>"
      ],
      "text/plain": [
       "CPU BRAND  AMD  Intel\n",
       "BRAND                \n",
       "ACER         0      8\n",
       "APPLE        0     14\n",
       "ASUS         7     19\n",
       "DELL         0     14\n",
       "HP           2     25\n",
       "LENOVO       4     32\n",
       "MICROSOFT    0      3\n",
       "TOSHIBA      0      1"
      ]
     },
     "execution_count": 185,
     "metadata": {},
     "output_type": "execute_result"
    }
   ],
   "source": [
    "pd.crosstab(data['BRAND'], data['CPU BRAND'])"
   ]
  },
  {
   "cell_type": "code",
   "execution_count": 186,
   "id": "40cf8423",
   "metadata": {},
   "outputs": [
    {
     "data": {
      "text/html": [
       "<div>\n",
       "<style scoped>\n",
       "    .dataframe tbody tr th:only-of-type {\n",
       "        vertical-align: middle;\n",
       "    }\n",
       "\n",
       "    .dataframe tbody tr th {\n",
       "        vertical-align: top;\n",
       "    }\n",
       "\n",
       "    .dataframe thead th {\n",
       "        text-align: right;\n",
       "    }\n",
       "</style>\n",
       "<table border=\"1\" class=\"dataframe\">\n",
       "  <thead>\n",
       "    <tr style=\"text-align: right;\">\n",
       "      <th>CPU FAMILY</th>\n",
       "      <th>G1</th>\n",
       "      <th>G7</th>\n",
       "      <th>H</th>\n",
       "      <th>HQ</th>\n",
       "      <th>M</th>\n",
       "      <th>U</th>\n",
       "      <th>YU</th>\n",
       "    </tr>\n",
       "    <tr>\n",
       "      <th>BRAND</th>\n",
       "      <th></th>\n",
       "      <th></th>\n",
       "      <th></th>\n",
       "      <th></th>\n",
       "      <th></th>\n",
       "      <th></th>\n",
       "      <th></th>\n",
       "    </tr>\n",
       "  </thead>\n",
       "  <tbody>\n",
       "    <tr>\n",
       "      <th>ACER</th>\n",
       "      <td>1</td>\n",
       "      <td>0</td>\n",
       "      <td>0</td>\n",
       "      <td>0</td>\n",
       "      <td>0</td>\n",
       "      <td>7</td>\n",
       "      <td>0</td>\n",
       "    </tr>\n",
       "    <tr>\n",
       "      <th>APPLE</th>\n",
       "      <td>0</td>\n",
       "      <td>0</td>\n",
       "      <td>2</td>\n",
       "      <td>5</td>\n",
       "      <td>0</td>\n",
       "      <td>4</td>\n",
       "      <td>3</td>\n",
       "    </tr>\n",
       "    <tr>\n",
       "      <th>ASUS</th>\n",
       "      <td>1</td>\n",
       "      <td>1</td>\n",
       "      <td>4</td>\n",
       "      <td>0</td>\n",
       "      <td>0</td>\n",
       "      <td>20</td>\n",
       "      <td>0</td>\n",
       "    </tr>\n",
       "    <tr>\n",
       "      <th>DELL</th>\n",
       "      <td>0</td>\n",
       "      <td>0</td>\n",
       "      <td>2</td>\n",
       "      <td>0</td>\n",
       "      <td>0</td>\n",
       "      <td>12</td>\n",
       "      <td>0</td>\n",
       "    </tr>\n",
       "    <tr>\n",
       "      <th>HP</th>\n",
       "      <td>1</td>\n",
       "      <td>0</td>\n",
       "      <td>0</td>\n",
       "      <td>1</td>\n",
       "      <td>1</td>\n",
       "      <td>24</td>\n",
       "      <td>0</td>\n",
       "    </tr>\n",
       "    <tr>\n",
       "      <th>LENOVO</th>\n",
       "      <td>0</td>\n",
       "      <td>0</td>\n",
       "      <td>2</td>\n",
       "      <td>0</td>\n",
       "      <td>1</td>\n",
       "      <td>33</td>\n",
       "      <td>0</td>\n",
       "    </tr>\n",
       "    <tr>\n",
       "      <th>MICROSOFT</th>\n",
       "      <td>0</td>\n",
       "      <td>0</td>\n",
       "      <td>0</td>\n",
       "      <td>0</td>\n",
       "      <td>0</td>\n",
       "      <td>3</td>\n",
       "      <td>0</td>\n",
       "    </tr>\n",
       "    <tr>\n",
       "      <th>TOSHIBA</th>\n",
       "      <td>0</td>\n",
       "      <td>0</td>\n",
       "      <td>0</td>\n",
       "      <td>0</td>\n",
       "      <td>0</td>\n",
       "      <td>1</td>\n",
       "      <td>0</td>\n",
       "    </tr>\n",
       "  </tbody>\n",
       "</table>\n",
       "</div>"
      ],
      "text/plain": [
       "CPU FAMILY  G1  G7  H  HQ  M   U  YU\n",
       "BRAND                               \n",
       "ACER         1   0  0   0  0   7   0\n",
       "APPLE        0   0  2   5  0   4   3\n",
       "ASUS         1   1  4   0  0  20   0\n",
       "DELL         0   0  2   0  0  12   0\n",
       "HP           1   0  0   1  1  24   0\n",
       "LENOVO       0   0  2   0  1  33   0\n",
       "MICROSOFT    0   0  0   0  0   3   0\n",
       "TOSHIBA      0   0  0   0  0   1   0"
      ]
     },
     "execution_count": 186,
     "metadata": {},
     "output_type": "execute_result"
    }
   ],
   "source": [
    "pd.crosstab(data['BRAND'], data['CPU FAMILY'])"
   ]
  },
  {
   "cell_type": "code",
   "execution_count": 187,
   "id": "c87c5d0b",
   "metadata": {},
   "outputs": [
    {
     "data": {
      "text/html": [
       "<div>\n",
       "<style scoped>\n",
       "    .dataframe tbody tr th:only-of-type {\n",
       "        vertical-align: middle;\n",
       "    }\n",
       "\n",
       "    .dataframe tbody tr th {\n",
       "        vertical-align: top;\n",
       "    }\n",
       "\n",
       "    .dataframe thead th {\n",
       "        text-align: right;\n",
       "    }\n",
       "</style>\n",
       "<table border=\"1\" class=\"dataframe\">\n",
       "  <thead>\n",
       "    <tr style=\"text-align: right;\">\n",
       "      <th>SCREEN RESOLUTION</th>\n",
       "      <th>FHD</th>\n",
       "      <th>HD</th>\n",
       "      <th>QHD</th>\n",
       "      <th>UHD</th>\n",
       "    </tr>\n",
       "    <tr>\n",
       "      <th>BRAND</th>\n",
       "      <th></th>\n",
       "      <th></th>\n",
       "      <th></th>\n",
       "      <th></th>\n",
       "    </tr>\n",
       "  </thead>\n",
       "  <tbody>\n",
       "    <tr>\n",
       "      <th>ACER</th>\n",
       "      <td>6</td>\n",
       "      <td>2</td>\n",
       "      <td>0</td>\n",
       "      <td>0</td>\n",
       "    </tr>\n",
       "    <tr>\n",
       "      <th>APPLE</th>\n",
       "      <td>2</td>\n",
       "      <td>1</td>\n",
       "      <td>9</td>\n",
       "      <td>2</td>\n",
       "    </tr>\n",
       "    <tr>\n",
       "      <th>ASUS</th>\n",
       "      <td>21</td>\n",
       "      <td>4</td>\n",
       "      <td>1</td>\n",
       "      <td>0</td>\n",
       "    </tr>\n",
       "    <tr>\n",
       "      <th>DELL</th>\n",
       "      <td>14</td>\n",
       "      <td>0</td>\n",
       "      <td>0</td>\n",
       "      <td>0</td>\n",
       "    </tr>\n",
       "    <tr>\n",
       "      <th>HP</th>\n",
       "      <td>22</td>\n",
       "      <td>4</td>\n",
       "      <td>0</td>\n",
       "      <td>1</td>\n",
       "    </tr>\n",
       "    <tr>\n",
       "      <th>LENOVO</th>\n",
       "      <td>25</td>\n",
       "      <td>10</td>\n",
       "      <td>1</td>\n",
       "      <td>0</td>\n",
       "    </tr>\n",
       "    <tr>\n",
       "      <th>MICROSOFT</th>\n",
       "      <td>1</td>\n",
       "      <td>0</td>\n",
       "      <td>1</td>\n",
       "      <td>1</td>\n",
       "    </tr>\n",
       "    <tr>\n",
       "      <th>TOSHIBA</th>\n",
       "      <td>1</td>\n",
       "      <td>0</td>\n",
       "      <td>0</td>\n",
       "      <td>0</td>\n",
       "    </tr>\n",
       "  </tbody>\n",
       "</table>\n",
       "</div>"
      ],
      "text/plain": [
       "SCREEN RESOLUTION  FHD  HD  QHD  UHD\n",
       "BRAND                               \n",
       "ACER                 6   2    0    0\n",
       "APPLE                2   1    9    2\n",
       "ASUS                21   4    1    0\n",
       "DELL                14   0    0    0\n",
       "HP                  22   4    0    1\n",
       "LENOVO              25  10    1    0\n",
       "MICROSOFT            1   0    1    1\n",
       "TOSHIBA              1   0    0    0"
      ]
     },
     "execution_count": 187,
     "metadata": {},
     "output_type": "execute_result"
    }
   ],
   "source": [
    "pd.crosstab(data['BRAND'], data['SCREEN RESOLUTION'])"
   ]
  },
  {
   "cell_type": "code",
   "execution_count": 188,
   "id": "e8e590df",
   "metadata": {},
   "outputs": [
    {
     "data": {
      "text/html": [
       "<div>\n",
       "<style scoped>\n",
       "    .dataframe tbody tr th:only-of-type {\n",
       "        vertical-align: middle;\n",
       "    }\n",
       "\n",
       "    .dataframe tbody tr th {\n",
       "        vertical-align: top;\n",
       "    }\n",
       "\n",
       "    .dataframe thead th {\n",
       "        text-align: right;\n",
       "    }\n",
       "</style>\n",
       "<table border=\"1\" class=\"dataframe\">\n",
       "  <thead>\n",
       "    <tr style=\"text-align: right;\">\n",
       "      <th>STATE</th>\n",
       "      <th>NEW</th>\n",
       "      <th>USED</th>\n",
       "    </tr>\n",
       "    <tr>\n",
       "      <th>BRAND</th>\n",
       "      <th></th>\n",
       "      <th></th>\n",
       "    </tr>\n",
       "  </thead>\n",
       "  <tbody>\n",
       "    <tr>\n",
       "      <th>ACER</th>\n",
       "      <td>1</td>\n",
       "      <td>7</td>\n",
       "    </tr>\n",
       "    <tr>\n",
       "      <th>APPLE</th>\n",
       "      <td>0</td>\n",
       "      <td>14</td>\n",
       "    </tr>\n",
       "    <tr>\n",
       "      <th>ASUS</th>\n",
       "      <td>5</td>\n",
       "      <td>21</td>\n",
       "    </tr>\n",
       "    <tr>\n",
       "      <th>DELL</th>\n",
       "      <td>0</td>\n",
       "      <td>14</td>\n",
       "    </tr>\n",
       "    <tr>\n",
       "      <th>HP</th>\n",
       "      <td>11</td>\n",
       "      <td>16</td>\n",
       "    </tr>\n",
       "    <tr>\n",
       "      <th>LENOVO</th>\n",
       "      <td>4</td>\n",
       "      <td>32</td>\n",
       "    </tr>\n",
       "    <tr>\n",
       "      <th>MICROSOFT</th>\n",
       "      <td>2</td>\n",
       "      <td>1</td>\n",
       "    </tr>\n",
       "    <tr>\n",
       "      <th>TOSHIBA</th>\n",
       "      <td>0</td>\n",
       "      <td>1</td>\n",
       "    </tr>\n",
       "  </tbody>\n",
       "</table>\n",
       "</div>"
      ],
      "text/plain": [
       "STATE      NEW  USED\n",
       "BRAND               \n",
       "ACER         1     7\n",
       "APPLE        0    14\n",
       "ASUS         5    21\n",
       "DELL         0    14\n",
       "HP          11    16\n",
       "LENOVO       4    32\n",
       "MICROSOFT    2     1\n",
       "TOSHIBA      0     1"
      ]
     },
     "execution_count": 188,
     "metadata": {},
     "output_type": "execute_result"
    }
   ],
   "source": [
    "pd.crosstab(data['BRAND'], data['STATE'])"
   ]
  },
  {
   "cell_type": "code",
   "execution_count": 189,
   "id": "13de464b",
   "metadata": {},
   "outputs": [
    {
     "data": {
      "text/html": [
       "<div>\n",
       "<style scoped>\n",
       "    .dataframe tbody tr th:only-of-type {\n",
       "        vertical-align: middle;\n",
       "    }\n",
       "\n",
       "    .dataframe tbody tr th {\n",
       "        vertical-align: top;\n",
       "    }\n",
       "\n",
       "    .dataframe thead th {\n",
       "        text-align: right;\n",
       "    }\n",
       "</style>\n",
       "<table border=\"1\" class=\"dataframe\">\n",
       "  <thead>\n",
       "    <tr style=\"text-align: right;\">\n",
       "      <th>CPU GENERATION</th>\n",
       "      <th>2</th>\n",
       "      <th>3</th>\n",
       "      <th>4</th>\n",
       "      <th>5</th>\n",
       "      <th>6</th>\n",
       "      <th>7</th>\n",
       "      <th>8</th>\n",
       "      <th>9</th>\n",
       "      <th>10</th>\n",
       "      <th>11</th>\n",
       "    </tr>\n",
       "    <tr>\n",
       "      <th>BRAND</th>\n",
       "      <th></th>\n",
       "      <th></th>\n",
       "      <th></th>\n",
       "      <th></th>\n",
       "      <th></th>\n",
       "      <th></th>\n",
       "      <th></th>\n",
       "      <th></th>\n",
       "      <th></th>\n",
       "      <th></th>\n",
       "    </tr>\n",
       "  </thead>\n",
       "  <tbody>\n",
       "    <tr>\n",
       "      <th>ACER</th>\n",
       "      <td>0</td>\n",
       "      <td>0</td>\n",
       "      <td>0</td>\n",
       "      <td>0</td>\n",
       "      <td>1</td>\n",
       "      <td>1</td>\n",
       "      <td>2</td>\n",
       "      <td>1</td>\n",
       "      <td>2</td>\n",
       "      <td>1</td>\n",
       "    </tr>\n",
       "    <tr>\n",
       "      <th>APPLE</th>\n",
       "      <td>0</td>\n",
       "      <td>0</td>\n",
       "      <td>2</td>\n",
       "      <td>1</td>\n",
       "      <td>0</td>\n",
       "      <td>3</td>\n",
       "      <td>6</td>\n",
       "      <td>1</td>\n",
       "      <td>1</td>\n",
       "      <td>0</td>\n",
       "    </tr>\n",
       "    <tr>\n",
       "      <th>ASUS</th>\n",
       "      <td>0</td>\n",
       "      <td>6</td>\n",
       "      <td>2</td>\n",
       "      <td>0</td>\n",
       "      <td>5</td>\n",
       "      <td>3</td>\n",
       "      <td>5</td>\n",
       "      <td>0</td>\n",
       "      <td>4</td>\n",
       "      <td>1</td>\n",
       "    </tr>\n",
       "    <tr>\n",
       "      <th>DELL</th>\n",
       "      <td>0</td>\n",
       "      <td>0</td>\n",
       "      <td>0</td>\n",
       "      <td>0</td>\n",
       "      <td>2</td>\n",
       "      <td>2</td>\n",
       "      <td>7</td>\n",
       "      <td>0</td>\n",
       "      <td>2</td>\n",
       "      <td>1</td>\n",
       "    </tr>\n",
       "    <tr>\n",
       "      <th>HP</th>\n",
       "      <td>1</td>\n",
       "      <td>2</td>\n",
       "      <td>1</td>\n",
       "      <td>0</td>\n",
       "      <td>4</td>\n",
       "      <td>3</td>\n",
       "      <td>6</td>\n",
       "      <td>0</td>\n",
       "      <td>8</td>\n",
       "      <td>2</td>\n",
       "    </tr>\n",
       "    <tr>\n",
       "      <th>LENOVO</th>\n",
       "      <td>0</td>\n",
       "      <td>2</td>\n",
       "      <td>4</td>\n",
       "      <td>1</td>\n",
       "      <td>6</td>\n",
       "      <td>0</td>\n",
       "      <td>12</td>\n",
       "      <td>0</td>\n",
       "      <td>7</td>\n",
       "      <td>4</td>\n",
       "    </tr>\n",
       "    <tr>\n",
       "      <th>MICROSOFT</th>\n",
       "      <td>0</td>\n",
       "      <td>0</td>\n",
       "      <td>0</td>\n",
       "      <td>0</td>\n",
       "      <td>0</td>\n",
       "      <td>0</td>\n",
       "      <td>1</td>\n",
       "      <td>0</td>\n",
       "      <td>2</td>\n",
       "      <td>0</td>\n",
       "    </tr>\n",
       "    <tr>\n",
       "      <th>TOSHIBA</th>\n",
       "      <td>0</td>\n",
       "      <td>0</td>\n",
       "      <td>0</td>\n",
       "      <td>0</td>\n",
       "      <td>0</td>\n",
       "      <td>1</td>\n",
       "      <td>0</td>\n",
       "      <td>0</td>\n",
       "      <td>0</td>\n",
       "      <td>0</td>\n",
       "    </tr>\n",
       "  </tbody>\n",
       "</table>\n",
       "</div>"
      ],
      "text/plain": [
       "CPU GENERATION  2   3   4   5   6   7   8   9   10  11\n",
       "BRAND                                                 \n",
       "ACER             0   0   0   0   1   1   2   1   2   1\n",
       "APPLE            0   0   2   1   0   3   6   1   1   0\n",
       "ASUS             0   6   2   0   5   3   5   0   4   1\n",
       "DELL             0   0   0   0   2   2   7   0   2   1\n",
       "HP               1   2   1   0   4   3   6   0   8   2\n",
       "LENOVO           0   2   4   1   6   0  12   0   7   4\n",
       "MICROSOFT        0   0   0   0   0   0   1   0   2   0\n",
       "TOSHIBA          0   0   0   0   0   1   0   0   0   0"
      ]
     },
     "execution_count": 189,
     "metadata": {},
     "output_type": "execute_result"
    }
   ],
   "source": [
    "pd.crosstab(data['BRAND'], data['CPU GENERATION'])"
   ]
  },
  {
   "cell_type": "code",
   "execution_count": 190,
   "id": "b9908eab",
   "metadata": {},
   "outputs": [
    {
     "data": {
      "text/html": [
       "<div>\n",
       "<style scoped>\n",
       "    .dataframe tbody tr th:only-of-type {\n",
       "        vertical-align: middle;\n",
       "    }\n",
       "\n",
       "    .dataframe tbody tr th {\n",
       "        vertical-align: top;\n",
       "    }\n",
       "\n",
       "    .dataframe thead th {\n",
       "        text-align: right;\n",
       "    }\n",
       "</style>\n",
       "<table border=\"1\" class=\"dataframe\">\n",
       "  <thead>\n",
       "    <tr style=\"text-align: right;\">\n",
       "      <th>SSD SIZE</th>\n",
       "      <th>0</th>\n",
       "      <th>128</th>\n",
       "      <th>180</th>\n",
       "      <th>256</th>\n",
       "      <th>512</th>\n",
       "      <th>1024</th>\n",
       "    </tr>\n",
       "    <tr>\n",
       "      <th>BRAND</th>\n",
       "      <th></th>\n",
       "      <th></th>\n",
       "      <th></th>\n",
       "      <th></th>\n",
       "      <th></th>\n",
       "      <th></th>\n",
       "    </tr>\n",
       "  </thead>\n",
       "  <tbody>\n",
       "    <tr>\n",
       "      <th>ACER</th>\n",
       "      <td>1</td>\n",
       "      <td>1</td>\n",
       "      <td>0</td>\n",
       "      <td>3</td>\n",
       "      <td>3</td>\n",
       "      <td>0</td>\n",
       "    </tr>\n",
       "    <tr>\n",
       "      <th>APPLE</th>\n",
       "      <td>1</td>\n",
       "      <td>2</td>\n",
       "      <td>0</td>\n",
       "      <td>9</td>\n",
       "      <td>2</td>\n",
       "      <td>0</td>\n",
       "    </tr>\n",
       "    <tr>\n",
       "      <th>ASUS</th>\n",
       "      <td>4</td>\n",
       "      <td>4</td>\n",
       "      <td>0</td>\n",
       "      <td>5</td>\n",
       "      <td>11</td>\n",
       "      <td>2</td>\n",
       "    </tr>\n",
       "    <tr>\n",
       "      <th>DELL</th>\n",
       "      <td>2</td>\n",
       "      <td>1</td>\n",
       "      <td>0</td>\n",
       "      <td>8</td>\n",
       "      <td>3</td>\n",
       "      <td>0</td>\n",
       "    </tr>\n",
       "    <tr>\n",
       "      <th>HP</th>\n",
       "      <td>2</td>\n",
       "      <td>2</td>\n",
       "      <td>0</td>\n",
       "      <td>18</td>\n",
       "      <td>5</td>\n",
       "      <td>0</td>\n",
       "    </tr>\n",
       "    <tr>\n",
       "      <th>LENOVO</th>\n",
       "      <td>3</td>\n",
       "      <td>1</td>\n",
       "      <td>1</td>\n",
       "      <td>16</td>\n",
       "      <td>13</td>\n",
       "      <td>2</td>\n",
       "    </tr>\n",
       "    <tr>\n",
       "      <th>MICROSOFT</th>\n",
       "      <td>0</td>\n",
       "      <td>1</td>\n",
       "      <td>0</td>\n",
       "      <td>1</td>\n",
       "      <td>1</td>\n",
       "      <td>0</td>\n",
       "    </tr>\n",
       "    <tr>\n",
       "      <th>TOSHIBA</th>\n",
       "      <td>0</td>\n",
       "      <td>0</td>\n",
       "      <td>0</td>\n",
       "      <td>1</td>\n",
       "      <td>0</td>\n",
       "      <td>0</td>\n",
       "    </tr>\n",
       "  </tbody>\n",
       "</table>\n",
       "</div>"
      ],
      "text/plain": [
       "SSD SIZE   0     128   180   256   512   1024\n",
       "BRAND                                        \n",
       "ACER          1     1     0     3     3     0\n",
       "APPLE         1     2     0     9     2     0\n",
       "ASUS          4     4     0     5    11     2\n",
       "DELL          2     1     0     8     3     0\n",
       "HP            2     2     0    18     5     0\n",
       "LENOVO        3     1     1    16    13     2\n",
       "MICROSOFT     0     1     0     1     1     0\n",
       "TOSHIBA       0     0     0     1     0     0"
      ]
     },
     "execution_count": 190,
     "metadata": {},
     "output_type": "execute_result"
    }
   ],
   "source": [
    "pd.crosstab(data['BRAND'], data['SSD SIZE'])"
   ]
  },
  {
   "cell_type": "code",
   "execution_count": 191,
   "id": "f0cf93bf",
   "metadata": {},
   "outputs": [
    {
     "data": {
      "text/html": [
       "<div>\n",
       "<style scoped>\n",
       "    .dataframe tbody tr th:only-of-type {\n",
       "        vertical-align: middle;\n",
       "    }\n",
       "\n",
       "    .dataframe tbody tr th {\n",
       "        vertical-align: top;\n",
       "    }\n",
       "\n",
       "    .dataframe thead th {\n",
       "        text-align: right;\n",
       "    }\n",
       "</style>\n",
       "<table border=\"1\" class=\"dataframe\">\n",
       "  <thead>\n",
       "    <tr style=\"text-align: right;\">\n",
       "      <th>HDD SIZE</th>\n",
       "      <th>0</th>\n",
       "      <th>320</th>\n",
       "      <th>500</th>\n",
       "    </tr>\n",
       "    <tr>\n",
       "      <th>BRAND</th>\n",
       "      <th></th>\n",
       "      <th></th>\n",
       "      <th></th>\n",
       "    </tr>\n",
       "  </thead>\n",
       "  <tbody>\n",
       "    <tr>\n",
       "      <th>ACER</th>\n",
       "      <td>7</td>\n",
       "      <td>0</td>\n",
       "      <td>1</td>\n",
       "    </tr>\n",
       "    <tr>\n",
       "      <th>APPLE</th>\n",
       "      <td>13</td>\n",
       "      <td>0</td>\n",
       "      <td>1</td>\n",
       "    </tr>\n",
       "    <tr>\n",
       "      <th>ASUS</th>\n",
       "      <td>21</td>\n",
       "      <td>1</td>\n",
       "      <td>4</td>\n",
       "    </tr>\n",
       "    <tr>\n",
       "      <th>DELL</th>\n",
       "      <td>12</td>\n",
       "      <td>0</td>\n",
       "      <td>2</td>\n",
       "    </tr>\n",
       "    <tr>\n",
       "      <th>HP</th>\n",
       "      <td>24</td>\n",
       "      <td>2</td>\n",
       "      <td>1</td>\n",
       "    </tr>\n",
       "    <tr>\n",
       "      <th>LENOVO</th>\n",
       "      <td>33</td>\n",
       "      <td>1</td>\n",
       "      <td>2</td>\n",
       "    </tr>\n",
       "    <tr>\n",
       "      <th>MICROSOFT</th>\n",
       "      <td>3</td>\n",
       "      <td>0</td>\n",
       "      <td>0</td>\n",
       "    </tr>\n",
       "    <tr>\n",
       "      <th>TOSHIBA</th>\n",
       "      <td>1</td>\n",
       "      <td>0</td>\n",
       "      <td>0</td>\n",
       "    </tr>\n",
       "  </tbody>\n",
       "</table>\n",
       "</div>"
      ],
      "text/plain": [
       "HDD SIZE   0    320  500\n",
       "BRAND                   \n",
       "ACER         7    0    1\n",
       "APPLE       13    0    1\n",
       "ASUS        21    1    4\n",
       "DELL        12    0    2\n",
       "HP          24    2    1\n",
       "LENOVO      33    1    2\n",
       "MICROSOFT    3    0    0\n",
       "TOSHIBA      1    0    0"
      ]
     },
     "execution_count": 191,
     "metadata": {},
     "output_type": "execute_result"
    }
   ],
   "source": [
    "pd.crosstab(data['BRAND'], data['HDD SIZE'])"
   ]
  },
  {
   "cell_type": "code",
   "execution_count": 192,
   "id": "6c7cf6cd",
   "metadata": {},
   "outputs": [
    {
     "data": {
      "text/html": [
       "<div>\n",
       "<style scoped>\n",
       "    .dataframe tbody tr th:only-of-type {\n",
       "        vertical-align: middle;\n",
       "    }\n",
       "\n",
       "    .dataframe tbody tr th {\n",
       "        vertical-align: top;\n",
       "    }\n",
       "\n",
       "    .dataframe thead th {\n",
       "        text-align: right;\n",
       "    }\n",
       "</style>\n",
       "<table border=\"1\" class=\"dataframe\">\n",
       "  <thead>\n",
       "    <tr style=\"text-align: right;\">\n",
       "      <th>SCREEN SIZE</th>\n",
       "      <th>12.4</th>\n",
       "      <th>12.5</th>\n",
       "      <th>13.0</th>\n",
       "      <th>13.3</th>\n",
       "      <th>13.5</th>\n",
       "      <th>14.0</th>\n",
       "      <th>14.1</th>\n",
       "      <th>15.0</th>\n",
       "      <th>15.4</th>\n",
       "      <th>15.5</th>\n",
       "      <th>15.6</th>\n",
       "      <th>17.0</th>\n",
       "      <th>17.3</th>\n",
       "    </tr>\n",
       "    <tr>\n",
       "      <th>BRAND</th>\n",
       "      <th></th>\n",
       "      <th></th>\n",
       "      <th></th>\n",
       "      <th></th>\n",
       "      <th></th>\n",
       "      <th></th>\n",
       "      <th></th>\n",
       "      <th></th>\n",
       "      <th></th>\n",
       "      <th></th>\n",
       "      <th></th>\n",
       "      <th></th>\n",
       "      <th></th>\n",
       "    </tr>\n",
       "  </thead>\n",
       "  <tbody>\n",
       "    <tr>\n",
       "      <th>ACER</th>\n",
       "      <td>0</td>\n",
       "      <td>0</td>\n",
       "      <td>0</td>\n",
       "      <td>0</td>\n",
       "      <td>0</td>\n",
       "      <td>1</td>\n",
       "      <td>2</td>\n",
       "      <td>1</td>\n",
       "      <td>0</td>\n",
       "      <td>0</td>\n",
       "      <td>4</td>\n",
       "      <td>0</td>\n",
       "      <td>0</td>\n",
       "    </tr>\n",
       "    <tr>\n",
       "      <th>APPLE</th>\n",
       "      <td>0</td>\n",
       "      <td>0</td>\n",
       "      <td>1</td>\n",
       "      <td>9</td>\n",
       "      <td>0</td>\n",
       "      <td>1</td>\n",
       "      <td>0</td>\n",
       "      <td>0</td>\n",
       "      <td>3</td>\n",
       "      <td>0</td>\n",
       "      <td>0</td>\n",
       "      <td>0</td>\n",
       "      <td>0</td>\n",
       "    </tr>\n",
       "    <tr>\n",
       "      <th>ASUS</th>\n",
       "      <td>0</td>\n",
       "      <td>0</td>\n",
       "      <td>2</td>\n",
       "      <td>1</td>\n",
       "      <td>0</td>\n",
       "      <td>2</td>\n",
       "      <td>8</td>\n",
       "      <td>2</td>\n",
       "      <td>0</td>\n",
       "      <td>0</td>\n",
       "      <td>8</td>\n",
       "      <td>2</td>\n",
       "      <td>1</td>\n",
       "    </tr>\n",
       "    <tr>\n",
       "      <th>DELL</th>\n",
       "      <td>0</td>\n",
       "      <td>1</td>\n",
       "      <td>0</td>\n",
       "      <td>3</td>\n",
       "      <td>0</td>\n",
       "      <td>1</td>\n",
       "      <td>6</td>\n",
       "      <td>0</td>\n",
       "      <td>0</td>\n",
       "      <td>1</td>\n",
       "      <td>2</td>\n",
       "      <td>0</td>\n",
       "      <td>0</td>\n",
       "    </tr>\n",
       "    <tr>\n",
       "      <th>HP</th>\n",
       "      <td>0</td>\n",
       "      <td>0</td>\n",
       "      <td>0</td>\n",
       "      <td>7</td>\n",
       "      <td>0</td>\n",
       "      <td>11</td>\n",
       "      <td>0</td>\n",
       "      <td>0</td>\n",
       "      <td>0</td>\n",
       "      <td>0</td>\n",
       "      <td>9</td>\n",
       "      <td>0</td>\n",
       "      <td>0</td>\n",
       "    </tr>\n",
       "    <tr>\n",
       "      <th>LENOVO</th>\n",
       "      <td>0</td>\n",
       "      <td>5</td>\n",
       "      <td>1</td>\n",
       "      <td>7</td>\n",
       "      <td>0</td>\n",
       "      <td>6</td>\n",
       "      <td>9</td>\n",
       "      <td>0</td>\n",
       "      <td>0</td>\n",
       "      <td>0</td>\n",
       "      <td>8</td>\n",
       "      <td>0</td>\n",
       "      <td>0</td>\n",
       "    </tr>\n",
       "    <tr>\n",
       "      <th>MICROSOFT</th>\n",
       "      <td>1</td>\n",
       "      <td>0</td>\n",
       "      <td>0</td>\n",
       "      <td>1</td>\n",
       "      <td>0</td>\n",
       "      <td>0</td>\n",
       "      <td>0</td>\n",
       "      <td>0</td>\n",
       "      <td>0</td>\n",
       "      <td>0</td>\n",
       "      <td>1</td>\n",
       "      <td>0</td>\n",
       "      <td>0</td>\n",
       "    </tr>\n",
       "    <tr>\n",
       "      <th>TOSHIBA</th>\n",
       "      <td>0</td>\n",
       "      <td>0</td>\n",
       "      <td>0</td>\n",
       "      <td>0</td>\n",
       "      <td>1</td>\n",
       "      <td>0</td>\n",
       "      <td>0</td>\n",
       "      <td>0</td>\n",
       "      <td>0</td>\n",
       "      <td>0</td>\n",
       "      <td>0</td>\n",
       "      <td>0</td>\n",
       "      <td>0</td>\n",
       "    </tr>\n",
       "  </tbody>\n",
       "</table>\n",
       "</div>"
      ],
      "text/plain": [
       "SCREEN SIZE  12.4  12.5  13.0  13.3  13.5  14.0  14.1  15.0  15.4  15.5  15.6  \\\n",
       "BRAND                                                                           \n",
       "ACER            0     0     0     0     0     1     2     1     0     0     4   \n",
       "APPLE           0     0     1     9     0     1     0     0     3     0     0   \n",
       "ASUS            0     0     2     1     0     2     8     2     0     0     8   \n",
       "DELL            0     1     0     3     0     1     6     0     0     1     2   \n",
       "HP              0     0     0     7     0    11     0     0     0     0     9   \n",
       "LENOVO          0     5     1     7     0     6     9     0     0     0     8   \n",
       "MICROSOFT       1     0     0     1     0     0     0     0     0     0     1   \n",
       "TOSHIBA         0     0     0     0     1     0     0     0     0     0     0   \n",
       "\n",
       "SCREEN SIZE  17.0  17.3  \n",
       "BRAND                    \n",
       "ACER            0     0  \n",
       "APPLE           0     0  \n",
       "ASUS            2     1  \n",
       "DELL            0     0  \n",
       "HP              0     0  \n",
       "LENOVO          0     0  \n",
       "MICROSOFT       0     0  \n",
       "TOSHIBA         0     0  "
      ]
     },
     "execution_count": 192,
     "metadata": {},
     "output_type": "execute_result"
    }
   ],
   "source": [
    "pd.crosstab(data['BRAND'], data['SCREEN SIZE'])"
   ]
  },
  {
   "cell_type": "code",
   "execution_count": 193,
   "id": "0ea795bd",
   "metadata": {},
   "outputs": [
    {
     "data": {
      "text/html": [
       "<div>\n",
       "<style scoped>\n",
       "    .dataframe tbody tr th:only-of-type {\n",
       "        vertical-align: middle;\n",
       "    }\n",
       "\n",
       "    .dataframe tbody tr th {\n",
       "        vertical-align: top;\n",
       "    }\n",
       "\n",
       "    .dataframe thead th {\n",
       "        text-align: right;\n",
       "    }\n",
       "</style>\n",
       "<table border=\"1\" class=\"dataframe\">\n",
       "  <thead>\n",
       "    <tr style=\"text-align: right;\">\n",
       "      <th></th>\n",
       "      <th>BRAND</th>\n",
       "      <th>ACER</th>\n",
       "      <th>APPLE</th>\n",
       "      <th>ASUS</th>\n",
       "      <th>DELL</th>\n",
       "      <th>HP</th>\n",
       "      <th>LENOVO</th>\n",
       "      <th>MICROSOFT</th>\n",
       "      <th>TOSHIBA</th>\n",
       "    </tr>\n",
       "    <tr>\n",
       "      <th>STATE</th>\n",
       "      <th>CPU BRAND</th>\n",
       "      <th></th>\n",
       "      <th></th>\n",
       "      <th></th>\n",
       "      <th></th>\n",
       "      <th></th>\n",
       "      <th></th>\n",
       "      <th></th>\n",
       "      <th></th>\n",
       "    </tr>\n",
       "  </thead>\n",
       "  <tbody>\n",
       "    <tr>\n",
       "      <th rowspan=\"2\" valign=\"top\">NEW</th>\n",
       "      <th>AMD</th>\n",
       "      <td>0</td>\n",
       "      <td>0</td>\n",
       "      <td>1</td>\n",
       "      <td>0</td>\n",
       "      <td>1</td>\n",
       "      <td>0</td>\n",
       "      <td>0</td>\n",
       "      <td>0</td>\n",
       "    </tr>\n",
       "    <tr>\n",
       "      <th>Intel</th>\n",
       "      <td>1</td>\n",
       "      <td>0</td>\n",
       "      <td>4</td>\n",
       "      <td>0</td>\n",
       "      <td>10</td>\n",
       "      <td>4</td>\n",
       "      <td>2</td>\n",
       "      <td>0</td>\n",
       "    </tr>\n",
       "    <tr>\n",
       "      <th rowspan=\"2\" valign=\"top\">USED</th>\n",
       "      <th>AMD</th>\n",
       "      <td>0</td>\n",
       "      <td>0</td>\n",
       "      <td>6</td>\n",
       "      <td>0</td>\n",
       "      <td>1</td>\n",
       "      <td>4</td>\n",
       "      <td>0</td>\n",
       "      <td>0</td>\n",
       "    </tr>\n",
       "    <tr>\n",
       "      <th>Intel</th>\n",
       "      <td>7</td>\n",
       "      <td>14</td>\n",
       "      <td>15</td>\n",
       "      <td>14</td>\n",
       "      <td>15</td>\n",
       "      <td>28</td>\n",
       "      <td>1</td>\n",
       "      <td>1</td>\n",
       "    </tr>\n",
       "  </tbody>\n",
       "</table>\n",
       "</div>"
      ],
      "text/plain": [
       "BRAND            ACER  APPLE  ASUS  DELL  HP  LENOVO  MICROSOFT  TOSHIBA\n",
       "STATE CPU BRAND                                                         \n",
       "NEW   AMD           0      0     1     0   1       0          0        0\n",
       "      Intel         1      0     4     0  10       4          2        0\n",
       "USED  AMD           0      0     6     0   1       4          0        0\n",
       "      Intel         7     14    15    14  15      28          1        1"
      ]
     },
     "execution_count": 193,
     "metadata": {},
     "output_type": "execute_result"
    }
   ],
   "source": [
    "pd.crosstab([data['STATE'], data['CPU BRAND']], data['BRAND'])"
   ]
  },
  {
   "cell_type": "code",
   "execution_count": 194,
   "id": "bc4261d8",
   "metadata": {},
   "outputs": [
    {
     "data": {
      "text/html": [
       "<div>\n",
       "<style scoped>\n",
       "    .dataframe tbody tr th:only-of-type {\n",
       "        vertical-align: middle;\n",
       "    }\n",
       "\n",
       "    .dataframe tbody tr th {\n",
       "        vertical-align: top;\n",
       "    }\n",
       "\n",
       "    .dataframe thead th {\n",
       "        text-align: right;\n",
       "    }\n",
       "</style>\n",
       "<table border=\"1\" class=\"dataframe\">\n",
       "  <thead>\n",
       "    <tr style=\"text-align: right;\">\n",
       "      <th>RAM(DDR) TYPE</th>\n",
       "      <th>4</th>\n",
       "    </tr>\n",
       "    <tr>\n",
       "      <th>RAM SIZE</th>\n",
       "      <th></th>\n",
       "    </tr>\n",
       "  </thead>\n",
       "  <tbody>\n",
       "    <tr>\n",
       "      <th>4</th>\n",
       "      <td>12</td>\n",
       "    </tr>\n",
       "    <tr>\n",
       "      <th>6</th>\n",
       "      <td>1</td>\n",
       "    </tr>\n",
       "    <tr>\n",
       "      <th>8</th>\n",
       "      <td>82</td>\n",
       "    </tr>\n",
       "    <tr>\n",
       "      <th>12</th>\n",
       "      <td>1</td>\n",
       "    </tr>\n",
       "    <tr>\n",
       "      <th>16</th>\n",
       "      <td>33</td>\n",
       "    </tr>\n",
       "  </tbody>\n",
       "</table>\n",
       "</div>"
      ],
      "text/plain": [
       "RAM(DDR) TYPE   4\n",
       "RAM SIZE         \n",
       "4              12\n",
       "6               1\n",
       "8              82\n",
       "12              1\n",
       "16             33"
      ]
     },
     "execution_count": 194,
     "metadata": {},
     "output_type": "execute_result"
    }
   ],
   "source": [
    "pd.crosstab(data['RAM SIZE'], data['RAM(DDR) TYPE'])"
   ]
  },
  {
   "cell_type": "code",
   "execution_count": 195,
   "id": "4f5f9d69",
   "metadata": {},
   "outputs": [
    {
     "data": {
      "text/html": [
       "<div>\n",
       "<style scoped>\n",
       "    .dataframe tbody tr th:only-of-type {\n",
       "        vertical-align: middle;\n",
       "    }\n",
       "\n",
       "    .dataframe tbody tr th {\n",
       "        vertical-align: top;\n",
       "    }\n",
       "\n",
       "    .dataframe thead th {\n",
       "        text-align: right;\n",
       "    }\n",
       "</style>\n",
       "<table border=\"1\" class=\"dataframe\">\n",
       "  <thead>\n",
       "    <tr style=\"text-align: right;\">\n",
       "      <th>RAM(DDR) TYPE</th>\n",
       "      <th>4</th>\n",
       "    </tr>\n",
       "    <tr>\n",
       "      <th>CPU CORE</th>\n",
       "      <th></th>\n",
       "    </tr>\n",
       "  </thead>\n",
       "  <tbody>\n",
       "    <tr>\n",
       "      <th>CELERON</th>\n",
       "      <td>1</td>\n",
       "    </tr>\n",
       "    <tr>\n",
       "      <th>Core i3</th>\n",
       "      <td>17</td>\n",
       "    </tr>\n",
       "    <tr>\n",
       "      <th>Core i5</th>\n",
       "      <td>65</td>\n",
       "    </tr>\n",
       "    <tr>\n",
       "      <th>Core i7</th>\n",
       "      <td>33</td>\n",
       "    </tr>\n",
       "    <tr>\n",
       "      <th>Ryzen 5</th>\n",
       "      <td>8</td>\n",
       "    </tr>\n",
       "    <tr>\n",
       "      <th>Ryzen 7</th>\n",
       "      <td>5</td>\n",
       "    </tr>\n",
       "  </tbody>\n",
       "</table>\n",
       "</div>"
      ],
      "text/plain": [
       "RAM(DDR) TYPE   4\n",
       "CPU CORE         \n",
       "CELERON         1\n",
       "Core i3        17\n",
       "Core i5        65\n",
       "Core i7        33\n",
       "Ryzen 5         8\n",
       "Ryzen 7         5"
      ]
     },
     "execution_count": 195,
     "metadata": {},
     "output_type": "execute_result"
    }
   ],
   "source": [
    "pd.crosstab(data['CPU CORE'], data['RAM(DDR) TYPE'])"
   ]
  },
  {
   "cell_type": "code",
   "execution_count": 196,
   "id": "13b95aa0",
   "metadata": {},
   "outputs": [
    {
     "data": {
      "text/html": [
       "<div>\n",
       "<style scoped>\n",
       "    .dataframe tbody tr th:only-of-type {\n",
       "        vertical-align: middle;\n",
       "    }\n",
       "\n",
       "    .dataframe tbody tr th {\n",
       "        vertical-align: top;\n",
       "    }\n",
       "\n",
       "    .dataframe thead th {\n",
       "        text-align: right;\n",
       "    }\n",
       "</style>\n",
       "<table border=\"1\" class=\"dataframe\">\n",
       "  <thead>\n",
       "    <tr style=\"text-align: right;\">\n",
       "      <th>RAM SIZE</th>\n",
       "      <th>4</th>\n",
       "      <th>6</th>\n",
       "      <th>8</th>\n",
       "      <th>12</th>\n",
       "      <th>16</th>\n",
       "    </tr>\n",
       "    <tr>\n",
       "      <th>STATE</th>\n",
       "      <th></th>\n",
       "      <th></th>\n",
       "      <th></th>\n",
       "      <th></th>\n",
       "      <th></th>\n",
       "    </tr>\n",
       "  </thead>\n",
       "  <tbody>\n",
       "    <tr>\n",
       "      <th>NEW</th>\n",
       "      <td>2</td>\n",
       "      <td>0</td>\n",
       "      <td>16</td>\n",
       "      <td>0</td>\n",
       "      <td>5</td>\n",
       "    </tr>\n",
       "    <tr>\n",
       "      <th>USED</th>\n",
       "      <td>10</td>\n",
       "      <td>1</td>\n",
       "      <td>66</td>\n",
       "      <td>1</td>\n",
       "      <td>28</td>\n",
       "    </tr>\n",
       "  </tbody>\n",
       "</table>\n",
       "</div>"
      ],
      "text/plain": [
       "RAM SIZE  4   6   8   12  16\n",
       "STATE                       \n",
       "NEW        2   0  16   0   5\n",
       "USED      10   1  66   1  28"
      ]
     },
     "execution_count": 196,
     "metadata": {},
     "output_type": "execute_result"
    }
   ],
   "source": [
    "pd.crosstab(data['STATE'], data['RAM SIZE'])"
   ]
  },
  {
   "cell_type": "code",
   "execution_count": 197,
   "id": "c5e92ae1",
   "metadata": {},
   "outputs": [
    {
     "data": {
      "text/html": [
       "<div>\n",
       "<style scoped>\n",
       "    .dataframe tbody tr th:only-of-type {\n",
       "        vertical-align: middle;\n",
       "    }\n",
       "\n",
       "    .dataframe tbody tr th {\n",
       "        vertical-align: top;\n",
       "    }\n",
       "\n",
       "    .dataframe thead tr th {\n",
       "        text-align: left;\n",
       "    }\n",
       "\n",
       "    .dataframe thead tr:last-of-type th {\n",
       "        text-align: right;\n",
       "    }\n",
       "</style>\n",
       "<table border=\"1\" class=\"dataframe\">\n",
       "  <thead>\n",
       "    <tr>\n",
       "      <th>RAM(DDR) TYPE</th>\n",
       "      <th colspan=\"5\" halign=\"left\">4</th>\n",
       "    </tr>\n",
       "    <tr>\n",
       "      <th>RAM SIZE</th>\n",
       "      <th>4</th>\n",
       "      <th>6</th>\n",
       "      <th>8</th>\n",
       "      <th>12</th>\n",
       "      <th>16</th>\n",
       "    </tr>\n",
       "    <tr>\n",
       "      <th>BRAND</th>\n",
       "      <th></th>\n",
       "      <th></th>\n",
       "      <th></th>\n",
       "      <th></th>\n",
       "      <th></th>\n",
       "    </tr>\n",
       "  </thead>\n",
       "  <tbody>\n",
       "    <tr>\n",
       "      <th>ACER</th>\n",
       "      <td>2</td>\n",
       "      <td>0</td>\n",
       "      <td>4</td>\n",
       "      <td>1</td>\n",
       "      <td>1</td>\n",
       "    </tr>\n",
       "    <tr>\n",
       "      <th>APPLE</th>\n",
       "      <td>1</td>\n",
       "      <td>0</td>\n",
       "      <td>9</td>\n",
       "      <td>0</td>\n",
       "      <td>4</td>\n",
       "    </tr>\n",
       "    <tr>\n",
       "      <th>ASUS</th>\n",
       "      <td>4</td>\n",
       "      <td>1</td>\n",
       "      <td>17</td>\n",
       "      <td>0</td>\n",
       "      <td>4</td>\n",
       "    </tr>\n",
       "    <tr>\n",
       "      <th>DELL</th>\n",
       "      <td>0</td>\n",
       "      <td>0</td>\n",
       "      <td>8</td>\n",
       "      <td>0</td>\n",
       "      <td>6</td>\n",
       "    </tr>\n",
       "    <tr>\n",
       "      <th>HP</th>\n",
       "      <td>3</td>\n",
       "      <td>0</td>\n",
       "      <td>20</td>\n",
       "      <td>0</td>\n",
       "      <td>4</td>\n",
       "    </tr>\n",
       "    <tr>\n",
       "      <th>LENOVO</th>\n",
       "      <td>2</td>\n",
       "      <td>0</td>\n",
       "      <td>22</td>\n",
       "      <td>0</td>\n",
       "      <td>12</td>\n",
       "    </tr>\n",
       "    <tr>\n",
       "      <th>MICROSOFT</th>\n",
       "      <td>0</td>\n",
       "      <td>0</td>\n",
       "      <td>1</td>\n",
       "      <td>0</td>\n",
       "      <td>2</td>\n",
       "    </tr>\n",
       "    <tr>\n",
       "      <th>TOSHIBA</th>\n",
       "      <td>0</td>\n",
       "      <td>0</td>\n",
       "      <td>1</td>\n",
       "      <td>0</td>\n",
       "      <td>0</td>\n",
       "    </tr>\n",
       "  </tbody>\n",
       "</table>\n",
       "</div>"
      ],
      "text/plain": [
       "RAM(DDR) TYPE  4              \n",
       "RAM SIZE      4  6   8  12  16\n",
       "BRAND                         \n",
       "ACER           2  0   4  1   1\n",
       "APPLE          1  0   9  0   4\n",
       "ASUS           4  1  17  0   4\n",
       "DELL           0  0   8  0   6\n",
       "HP             3  0  20  0   4\n",
       "LENOVO         2  0  22  0  12\n",
       "MICROSOFT      0  0   1  0   2\n",
       "TOSHIBA        0  0   1  0   0"
      ]
     },
     "execution_count": 197,
     "metadata": {},
     "output_type": "execute_result"
    }
   ],
   "source": [
    "pd.crosstab(data['BRAND'], [data['RAM(DDR) TYPE'], data['RAM SIZE']])"
   ]
  },
  {
   "cell_type": "code",
   "execution_count": 198,
   "id": "631631bc",
   "metadata": {},
   "outputs": [
    {
     "data": {
      "text/html": [
       "<div>\n",
       "<style scoped>\n",
       "    .dataframe tbody tr th:only-of-type {\n",
       "        vertical-align: middle;\n",
       "    }\n",
       "\n",
       "    .dataframe tbody tr th {\n",
       "        vertical-align: top;\n",
       "    }\n",
       "\n",
       "    .dataframe thead tr th {\n",
       "        text-align: left;\n",
       "    }\n",
       "\n",
       "    .dataframe thead tr:last-of-type th {\n",
       "        text-align: right;\n",
       "    }\n",
       "</style>\n",
       "<table border=\"1\" class=\"dataframe\">\n",
       "  <thead>\n",
       "    <tr>\n",
       "      <th>STATE</th>\n",
       "      <th colspan=\"2\" halign=\"left\">NEW</th>\n",
       "      <th colspan=\"2\" halign=\"left\">USED</th>\n",
       "    </tr>\n",
       "    <tr>\n",
       "      <th>CPU BRAND</th>\n",
       "      <th>AMD</th>\n",
       "      <th>Intel</th>\n",
       "      <th>AMD</th>\n",
       "      <th>Intel</th>\n",
       "    </tr>\n",
       "    <tr>\n",
       "      <th>BRAND</th>\n",
       "      <th></th>\n",
       "      <th></th>\n",
       "      <th></th>\n",
       "      <th></th>\n",
       "    </tr>\n",
       "  </thead>\n",
       "  <tbody>\n",
       "    <tr>\n",
       "      <th>ACER</th>\n",
       "      <td>0</td>\n",
       "      <td>1</td>\n",
       "      <td>0</td>\n",
       "      <td>7</td>\n",
       "    </tr>\n",
       "    <tr>\n",
       "      <th>APPLE</th>\n",
       "      <td>0</td>\n",
       "      <td>0</td>\n",
       "      <td>0</td>\n",
       "      <td>14</td>\n",
       "    </tr>\n",
       "    <tr>\n",
       "      <th>ASUS</th>\n",
       "      <td>1</td>\n",
       "      <td>4</td>\n",
       "      <td>6</td>\n",
       "      <td>15</td>\n",
       "    </tr>\n",
       "    <tr>\n",
       "      <th>DELL</th>\n",
       "      <td>0</td>\n",
       "      <td>0</td>\n",
       "      <td>0</td>\n",
       "      <td>14</td>\n",
       "    </tr>\n",
       "    <tr>\n",
       "      <th>HP</th>\n",
       "      <td>1</td>\n",
       "      <td>10</td>\n",
       "      <td>1</td>\n",
       "      <td>15</td>\n",
       "    </tr>\n",
       "    <tr>\n",
       "      <th>LENOVO</th>\n",
       "      <td>0</td>\n",
       "      <td>4</td>\n",
       "      <td>4</td>\n",
       "      <td>28</td>\n",
       "    </tr>\n",
       "    <tr>\n",
       "      <th>MICROSOFT</th>\n",
       "      <td>0</td>\n",
       "      <td>2</td>\n",
       "      <td>0</td>\n",
       "      <td>1</td>\n",
       "    </tr>\n",
       "    <tr>\n",
       "      <th>TOSHIBA</th>\n",
       "      <td>0</td>\n",
       "      <td>0</td>\n",
       "      <td>0</td>\n",
       "      <td>1</td>\n",
       "    </tr>\n",
       "  </tbody>\n",
       "</table>\n",
       "</div>"
      ],
      "text/plain": [
       "STATE     NEW       USED      \n",
       "CPU BRAND AMD Intel  AMD Intel\n",
       "BRAND                         \n",
       "ACER        0     1    0     7\n",
       "APPLE       0     0    0    14\n",
       "ASUS        1     4    6    15\n",
       "DELL        0     0    0    14\n",
       "HP          1    10    1    15\n",
       "LENOVO      0     4    4    28\n",
       "MICROSOFT   0     2    0     1\n",
       "TOSHIBA     0     0    0     1"
      ]
     },
     "execution_count": 198,
     "metadata": {},
     "output_type": "execute_result"
    }
   ],
   "source": [
    "pd.crosstab(data['BRAND'], [data['STATE'], data['CPU BRAND']])"
   ]
  },
  {
   "cell_type": "code",
   "execution_count": 199,
   "id": "bc8e20e4",
   "metadata": {},
   "outputs": [
    {
     "data": {
      "text/html": [
       "<div>\n",
       "<style scoped>\n",
       "    .dataframe tbody tr th:only-of-type {\n",
       "        vertical-align: middle;\n",
       "    }\n",
       "\n",
       "    .dataframe tbody tr th {\n",
       "        vertical-align: top;\n",
       "    }\n",
       "\n",
       "    .dataframe thead tr th {\n",
       "        text-align: left;\n",
       "    }\n",
       "\n",
       "    .dataframe thead tr:last-of-type th {\n",
       "        text-align: right;\n",
       "    }\n",
       "</style>\n",
       "<table border=\"1\" class=\"dataframe\">\n",
       "  <thead>\n",
       "    <tr>\n",
       "      <th>STATE</th>\n",
       "      <th colspan=\"4\" halign=\"left\">NEW</th>\n",
       "      <th colspan=\"6\" halign=\"left\">USED</th>\n",
       "    </tr>\n",
       "    <tr>\n",
       "      <th>SSD SIZE</th>\n",
       "      <th>0</th>\n",
       "      <th>128</th>\n",
       "      <th>256</th>\n",
       "      <th>512</th>\n",
       "      <th>0</th>\n",
       "      <th>128</th>\n",
       "      <th>180</th>\n",
       "      <th>256</th>\n",
       "      <th>512</th>\n",
       "      <th>1024</th>\n",
       "    </tr>\n",
       "    <tr>\n",
       "      <th>BRAND</th>\n",
       "      <th></th>\n",
       "      <th></th>\n",
       "      <th></th>\n",
       "      <th></th>\n",
       "      <th></th>\n",
       "      <th></th>\n",
       "      <th></th>\n",
       "      <th></th>\n",
       "      <th></th>\n",
       "      <th></th>\n",
       "    </tr>\n",
       "  </thead>\n",
       "  <tbody>\n",
       "    <tr>\n",
       "      <th>ACER</th>\n",
       "      <td>1</td>\n",
       "      <td>0</td>\n",
       "      <td>0</td>\n",
       "      <td>0</td>\n",
       "      <td>0</td>\n",
       "      <td>1</td>\n",
       "      <td>0</td>\n",
       "      <td>3</td>\n",
       "      <td>3</td>\n",
       "      <td>0</td>\n",
       "    </tr>\n",
       "    <tr>\n",
       "      <th>APPLE</th>\n",
       "      <td>0</td>\n",
       "      <td>0</td>\n",
       "      <td>0</td>\n",
       "      <td>0</td>\n",
       "      <td>1</td>\n",
       "      <td>2</td>\n",
       "      <td>0</td>\n",
       "      <td>9</td>\n",
       "      <td>2</td>\n",
       "      <td>0</td>\n",
       "    </tr>\n",
       "    <tr>\n",
       "      <th>ASUS</th>\n",
       "      <td>0</td>\n",
       "      <td>0</td>\n",
       "      <td>2</td>\n",
       "      <td>3</td>\n",
       "      <td>4</td>\n",
       "      <td>4</td>\n",
       "      <td>0</td>\n",
       "      <td>3</td>\n",
       "      <td>8</td>\n",
       "      <td>2</td>\n",
       "    </tr>\n",
       "    <tr>\n",
       "      <th>DELL</th>\n",
       "      <td>0</td>\n",
       "      <td>0</td>\n",
       "      <td>0</td>\n",
       "      <td>0</td>\n",
       "      <td>2</td>\n",
       "      <td>1</td>\n",
       "      <td>0</td>\n",
       "      <td>8</td>\n",
       "      <td>3</td>\n",
       "      <td>0</td>\n",
       "    </tr>\n",
       "    <tr>\n",
       "      <th>HP</th>\n",
       "      <td>0</td>\n",
       "      <td>0</td>\n",
       "      <td>7</td>\n",
       "      <td>4</td>\n",
       "      <td>2</td>\n",
       "      <td>2</td>\n",
       "      <td>0</td>\n",
       "      <td>11</td>\n",
       "      <td>1</td>\n",
       "      <td>0</td>\n",
       "    </tr>\n",
       "    <tr>\n",
       "      <th>LENOVO</th>\n",
       "      <td>0</td>\n",
       "      <td>0</td>\n",
       "      <td>3</td>\n",
       "      <td>1</td>\n",
       "      <td>3</td>\n",
       "      <td>1</td>\n",
       "      <td>1</td>\n",
       "      <td>13</td>\n",
       "      <td>12</td>\n",
       "      <td>2</td>\n",
       "    </tr>\n",
       "    <tr>\n",
       "      <th>MICROSOFT</th>\n",
       "      <td>0</td>\n",
       "      <td>1</td>\n",
       "      <td>1</td>\n",
       "      <td>0</td>\n",
       "      <td>0</td>\n",
       "      <td>0</td>\n",
       "      <td>0</td>\n",
       "      <td>0</td>\n",
       "      <td>1</td>\n",
       "      <td>0</td>\n",
       "    </tr>\n",
       "    <tr>\n",
       "      <th>TOSHIBA</th>\n",
       "      <td>0</td>\n",
       "      <td>0</td>\n",
       "      <td>0</td>\n",
       "      <td>0</td>\n",
       "      <td>0</td>\n",
       "      <td>0</td>\n",
       "      <td>0</td>\n",
       "      <td>1</td>\n",
       "      <td>0</td>\n",
       "      <td>0</td>\n",
       "    </tr>\n",
       "  </tbody>\n",
       "</table>\n",
       "</div>"
      ],
      "text/plain": [
       "STATE      NEW                USED                         \n",
       "SSD SIZE  0    128  256  512  0    128  180  256  512  1024\n",
       "BRAND                                                      \n",
       "ACER         1    0    0    0    0    1    0    3    3    0\n",
       "APPLE        0    0    0    0    1    2    0    9    2    0\n",
       "ASUS         0    0    2    3    4    4    0    3    8    2\n",
       "DELL         0    0    0    0    2    1    0    8    3    0\n",
       "HP           0    0    7    4    2    2    0   11    1    0\n",
       "LENOVO       0    0    3    1    3    1    1   13   12    2\n",
       "MICROSOFT    0    1    1    0    0    0    0    0    1    0\n",
       "TOSHIBA      0    0    0    0    0    0    0    1    0    0"
      ]
     },
     "execution_count": 199,
     "metadata": {},
     "output_type": "execute_result"
    }
   ],
   "source": [
    "pd.crosstab(data['BRAND'], [data['STATE'], data['SSD SIZE']])"
   ]
  },
  {
   "cell_type": "code",
   "execution_count": 200,
   "id": "037dd007",
   "metadata": {},
   "outputs": [
    {
     "data": {
      "text/html": [
       "<div>\n",
       "<style scoped>\n",
       "    .dataframe tbody tr th:only-of-type {\n",
       "        vertical-align: middle;\n",
       "    }\n",
       "\n",
       "    .dataframe tbody tr th {\n",
       "        vertical-align: top;\n",
       "    }\n",
       "\n",
       "    .dataframe thead tr th {\n",
       "        text-align: left;\n",
       "    }\n",
       "\n",
       "    .dataframe thead tr:last-of-type th {\n",
       "        text-align: right;\n",
       "    }\n",
       "</style>\n",
       "<table border=\"1\" class=\"dataframe\">\n",
       "  <thead>\n",
       "    <tr>\n",
       "      <th>STATE</th>\n",
       "      <th colspan=\"2\" halign=\"left\">NEW</th>\n",
       "      <th colspan=\"3\" halign=\"left\">USED</th>\n",
       "    </tr>\n",
       "    <tr>\n",
       "      <th>HDD SIZE</th>\n",
       "      <th>0</th>\n",
       "      <th>500</th>\n",
       "      <th>0</th>\n",
       "      <th>320</th>\n",
       "      <th>500</th>\n",
       "    </tr>\n",
       "    <tr>\n",
       "      <th>BRAND</th>\n",
       "      <th></th>\n",
       "      <th></th>\n",
       "      <th></th>\n",
       "      <th></th>\n",
       "      <th></th>\n",
       "    </tr>\n",
       "  </thead>\n",
       "  <tbody>\n",
       "    <tr>\n",
       "      <th>ACER</th>\n",
       "      <td>0</td>\n",
       "      <td>1</td>\n",
       "      <td>7</td>\n",
       "      <td>0</td>\n",
       "      <td>0</td>\n",
       "    </tr>\n",
       "    <tr>\n",
       "      <th>APPLE</th>\n",
       "      <td>0</td>\n",
       "      <td>0</td>\n",
       "      <td>13</td>\n",
       "      <td>0</td>\n",
       "      <td>1</td>\n",
       "    </tr>\n",
       "    <tr>\n",
       "      <th>ASUS</th>\n",
       "      <td>5</td>\n",
       "      <td>0</td>\n",
       "      <td>16</td>\n",
       "      <td>1</td>\n",
       "      <td>4</td>\n",
       "    </tr>\n",
       "    <tr>\n",
       "      <th>DELL</th>\n",
       "      <td>0</td>\n",
       "      <td>0</td>\n",
       "      <td>12</td>\n",
       "      <td>0</td>\n",
       "      <td>2</td>\n",
       "    </tr>\n",
       "    <tr>\n",
       "      <th>HP</th>\n",
       "      <td>11</td>\n",
       "      <td>0</td>\n",
       "      <td>13</td>\n",
       "      <td>2</td>\n",
       "      <td>1</td>\n",
       "    </tr>\n",
       "    <tr>\n",
       "      <th>LENOVO</th>\n",
       "      <td>4</td>\n",
       "      <td>0</td>\n",
       "      <td>29</td>\n",
       "      <td>1</td>\n",
       "      <td>2</td>\n",
       "    </tr>\n",
       "    <tr>\n",
       "      <th>MICROSOFT</th>\n",
       "      <td>2</td>\n",
       "      <td>0</td>\n",
       "      <td>1</td>\n",
       "      <td>0</td>\n",
       "      <td>0</td>\n",
       "    </tr>\n",
       "    <tr>\n",
       "      <th>TOSHIBA</th>\n",
       "      <td>0</td>\n",
       "      <td>0</td>\n",
       "      <td>1</td>\n",
       "      <td>0</td>\n",
       "      <td>0</td>\n",
       "    </tr>\n",
       "  </tbody>\n",
       "</table>\n",
       "</div>"
      ],
      "text/plain": [
       "STATE     NEW     USED        \n",
       "HDD SIZE  0   500  0   320 500\n",
       "BRAND                         \n",
       "ACER        0   1    7   0   0\n",
       "APPLE       0   0   13   0   1\n",
       "ASUS        5   0   16   1   4\n",
       "DELL        0   0   12   0   2\n",
       "HP         11   0   13   2   1\n",
       "LENOVO      4   0   29   1   2\n",
       "MICROSOFT   2   0    1   0   0\n",
       "TOSHIBA     0   0    1   0   0"
      ]
     },
     "execution_count": 200,
     "metadata": {},
     "output_type": "execute_result"
    }
   ],
   "source": [
    "pd.crosstab(data['BRAND'], [data['STATE'], data['HDD SIZE']])"
   ]
  },
  {
   "cell_type": "code",
   "execution_count": 201,
   "id": "272c9b4b",
   "metadata": {},
   "outputs": [
    {
     "data": {
      "text/html": [
       "<div>\n",
       "<style scoped>\n",
       "    .dataframe tbody tr th:only-of-type {\n",
       "        vertical-align: middle;\n",
       "    }\n",
       "\n",
       "    .dataframe tbody tr th {\n",
       "        vertical-align: top;\n",
       "    }\n",
       "\n",
       "    .dataframe thead th {\n",
       "        text-align: right;\n",
       "    }\n",
       "</style>\n",
       "<table border=\"1\" class=\"dataframe\">\n",
       "  <thead>\n",
       "    <tr style=\"text-align: right;\">\n",
       "      <th></th>\n",
       "      <th>BRAND</th>\n",
       "      <th>ACER</th>\n",
       "      <th>APPLE</th>\n",
       "      <th>ASUS</th>\n",
       "      <th>DELL</th>\n",
       "      <th>HP</th>\n",
       "      <th>LENOVO</th>\n",
       "      <th>MICROSOFT</th>\n",
       "      <th>TOSHIBA</th>\n",
       "    </tr>\n",
       "    <tr>\n",
       "      <th>STATE</th>\n",
       "      <th>CPU FAMILY</th>\n",
       "      <th></th>\n",
       "      <th></th>\n",
       "      <th></th>\n",
       "      <th></th>\n",
       "      <th></th>\n",
       "      <th></th>\n",
       "      <th></th>\n",
       "      <th></th>\n",
       "    </tr>\n",
       "  </thead>\n",
       "  <tbody>\n",
       "    <tr>\n",
       "      <th rowspan=\"3\" valign=\"top\">NEW</th>\n",
       "      <th>G1</th>\n",
       "      <td>0</td>\n",
       "      <td>0</td>\n",
       "      <td>1</td>\n",
       "      <td>0</td>\n",
       "      <td>0</td>\n",
       "      <td>0</td>\n",
       "      <td>0</td>\n",
       "      <td>0</td>\n",
       "    </tr>\n",
       "    <tr>\n",
       "      <th>H</th>\n",
       "      <td>0</td>\n",
       "      <td>0</td>\n",
       "      <td>2</td>\n",
       "      <td>0</td>\n",
       "      <td>0</td>\n",
       "      <td>0</td>\n",
       "      <td>0</td>\n",
       "      <td>0</td>\n",
       "    </tr>\n",
       "    <tr>\n",
       "      <th>U</th>\n",
       "      <td>1</td>\n",
       "      <td>0</td>\n",
       "      <td>2</td>\n",
       "      <td>0</td>\n",
       "      <td>11</td>\n",
       "      <td>4</td>\n",
       "      <td>2</td>\n",
       "      <td>0</td>\n",
       "    </tr>\n",
       "    <tr>\n",
       "      <th rowspan=\"7\" valign=\"top\">USED</th>\n",
       "      <th>G1</th>\n",
       "      <td>1</td>\n",
       "      <td>0</td>\n",
       "      <td>0</td>\n",
       "      <td>0</td>\n",
       "      <td>1</td>\n",
       "      <td>0</td>\n",
       "      <td>0</td>\n",
       "      <td>0</td>\n",
       "    </tr>\n",
       "    <tr>\n",
       "      <th>G7</th>\n",
       "      <td>0</td>\n",
       "      <td>0</td>\n",
       "      <td>1</td>\n",
       "      <td>0</td>\n",
       "      <td>0</td>\n",
       "      <td>0</td>\n",
       "      <td>0</td>\n",
       "      <td>0</td>\n",
       "    </tr>\n",
       "    <tr>\n",
       "      <th>H</th>\n",
       "      <td>0</td>\n",
       "      <td>2</td>\n",
       "      <td>2</td>\n",
       "      <td>2</td>\n",
       "      <td>0</td>\n",
       "      <td>2</td>\n",
       "      <td>0</td>\n",
       "      <td>0</td>\n",
       "    </tr>\n",
       "    <tr>\n",
       "      <th>HQ</th>\n",
       "      <td>0</td>\n",
       "      <td>5</td>\n",
       "      <td>0</td>\n",
       "      <td>0</td>\n",
       "      <td>1</td>\n",
       "      <td>0</td>\n",
       "      <td>0</td>\n",
       "      <td>0</td>\n",
       "    </tr>\n",
       "    <tr>\n",
       "      <th>M</th>\n",
       "      <td>0</td>\n",
       "      <td>0</td>\n",
       "      <td>0</td>\n",
       "      <td>0</td>\n",
       "      <td>1</td>\n",
       "      <td>1</td>\n",
       "      <td>0</td>\n",
       "      <td>0</td>\n",
       "    </tr>\n",
       "    <tr>\n",
       "      <th>U</th>\n",
       "      <td>6</td>\n",
       "      <td>4</td>\n",
       "      <td>18</td>\n",
       "      <td>12</td>\n",
       "      <td>13</td>\n",
       "      <td>29</td>\n",
       "      <td>1</td>\n",
       "      <td>1</td>\n",
       "    </tr>\n",
       "    <tr>\n",
       "      <th>YU</th>\n",
       "      <td>0</td>\n",
       "      <td>3</td>\n",
       "      <td>0</td>\n",
       "      <td>0</td>\n",
       "      <td>0</td>\n",
       "      <td>0</td>\n",
       "      <td>0</td>\n",
       "      <td>0</td>\n",
       "    </tr>\n",
       "  </tbody>\n",
       "</table>\n",
       "</div>"
      ],
      "text/plain": [
       "BRAND             ACER  APPLE  ASUS  DELL  HP  LENOVO  MICROSOFT  TOSHIBA\n",
       "STATE CPU FAMILY                                                         \n",
       "NEW   G1             0      0     1     0   0       0          0        0\n",
       "      H              0      0     2     0   0       0          0        0\n",
       "      U              1      0     2     0  11       4          2        0\n",
       "USED  G1             1      0     0     0   1       0          0        0\n",
       "      G7             0      0     1     0   0       0          0        0\n",
       "      H              0      2     2     2   0       2          0        0\n",
       "      HQ             0      5     0     0   1       0          0        0\n",
       "      M              0      0     0     0   1       1          0        0\n",
       "      U              6      4    18    12  13      29          1        1\n",
       "      YU             0      3     0     0   0       0          0        0"
      ]
     },
     "execution_count": 201,
     "metadata": {},
     "output_type": "execute_result"
    }
   ],
   "source": [
    "pd.crosstab([data['STATE'], data['CPU FAMILY']], data['BRAND'])"
   ]
  },
  {
   "cell_type": "markdown",
   "id": "831b69e0",
   "metadata": {},
   "source": [
    "## Using Matplotlib and SeaBorn to graphically represent our data "
   ]
  },
  {
   "cell_type": "markdown",
   "id": "85750ea5",
   "metadata": {},
   "source": [
    "# Defining a corelation matrix"
   ]
  },
  {
   "cell_type": "code",
   "execution_count": 202,
   "id": "9a30916c",
   "metadata": {},
   "outputs": [],
   "source": [
    "corelation = data.corr()"
   ]
  },
  {
   "cell_type": "markdown",
   "id": "19533f68",
   "metadata": {},
   "source": [
    "### RELATIONSHIP ANALYSIS"
   ]
  },
  {
   "cell_type": "code",
   "execution_count": 203,
   "id": "4959fe26",
   "metadata": {},
   "outputs": [
    {
     "data": {
      "image/png": "[encoded data removed]",
      "text/plain": [
       "<Figure size 432x288 with 2 Axes>"
      ]
     },
     "metadata": {
      "needs_background": "light"
     },
     "output_type": "display_data"
    }
   ],
   "source": [
    "sns.heatmap(corelation, xticklabels = corelation.columns, yticklabels = corelation.columns\n",
    "           , annot = True);"
   ]
  },
  {
   "cell_type": "markdown",
   "id": "c26350a1",
   "metadata": {},
   "source": [
    "## PAIRPLOT RELATIONSHIP"
   ]
  },
  {
   "cell_type": "code",
   "execution_count": 204,
   "id": "945a5392",
   "metadata": {},
   "outputs": [
    {
     "data": {
      "image/png": "[encoded data removed]",
      "text/plain": [
       "<Figure size 1260x1260 with 56 Axes>"
      ]
     },
     "metadata": {
      "needs_background": "light"
     },
     "output_type": "display_data"
    }
   ],
   "source": [
    "sns.pairplot(data);"
   ]
  },
  {
   "cell_type": "markdown",
   "id": "99c35c46",
   "metadata": {},
   "source": [
    "## SCATTER PLOT"
   ]
  },
  {
   "cell_type": "code",
   "execution_count": 205,
   "id": "9eaeecd3",
   "metadata": {},
   "outputs": [
    {
     "data": {
      "image/png": "[encoded data removed]",
      "text/plain": [
       "<Figure size 454.625x360 with 1 Axes>"
      ]
     },
     "metadata": {
      "needs_background": "light"
     },
     "output_type": "display_data"
    }
   ],
   "source": [
    "sns.relplot(x = 'CPU GENERATION', y = 'RAM SIZE', hue = 'BRAND', data = data);"
   ]
  },
  {
   "cell_type": "code",
   "execution_count": 206,
   "id": "0388fe20",
   "metadata": {},
   "outputs": [
    {
     "data": {
      "image/png": "[encoded data removed]",
      "text/plain": [
       "<Figure size 454.625x360 with 1 Axes>"
      ]
     },
     "metadata": {
      "needs_background": "light"
     },
     "output_type": "display_data"
    }
   ],
   "source": [
    "sns.relplot(x = 'SSD SIZE', y = 'HDD SIZE', hue = 'BRAND', data = data);"
   ]
  },
  {
   "cell_type": "code",
   "execution_count": 207,
   "id": "e135f0d0",
   "metadata": {},
   "outputs": [
    {
     "data": {
      "image/png": "[encoded data removed]",
      "text/plain": [
       "<Figure size 454.625x360 with 1 Axes>"
      ]
     },
     "metadata": {
      "needs_background": "light"
     },
     "output_type": "display_data"
    }
   ],
   "source": [
    "sns.relplot(x = 'CPU GENERATION', y = 'CPU BRAND', hue = 'BRAND', data = data);"
   ]
  },
  {
   "cell_type": "code",
   "execution_count": 208,
   "id": "58f495b2",
   "metadata": {},
   "outputs": [
    {
     "data": {
      "image/png": "[encoded data removed]",
      "text/plain": [
       "<Figure size 454.625x360 with 1 Axes>"
      ]
     },
     "metadata": {
      "needs_background": "light"
     },
     "output_type": "display_data"
    }
   ],
   "source": [
    "sns.relplot(x = 'RAM SIZE', y = 'RAM(DDR) TYPE', hue = 'BRAND', data = data);"
   ]
  },
  {
   "cell_type": "code",
   "execution_count": 209,
   "id": "cd15875e",
   "metadata": {},
   "outputs": [
    {
     "data": {
      "image/png": "[encoded data removed]",
      "text/plain": [
       "<Figure size 454.625x360 with 1 Axes>"
      ]
     },
     "metadata": {
      "needs_background": "light"
     },
     "output_type": "display_data"
    }
   ],
   "source": [
    "sns.catplot(x = 'CPU BRAND', y = 'CPU GENERATION', hue = 'BRAND', data = data);"
   ]
  },
  {
   "cell_type": "markdown",
   "id": "db7a3ecc",
   "metadata": {},
   "source": [
    "## PLOTTING A DISTPLOT"
   ]
  },
  {
   "cell_type": "code",
   "execution_count": 210,
   "id": "9a1bfd5a",
   "metadata": {},
   "outputs": [
    {
     "name": "stderr",
     "output_type": "stream",
     "text": [
      "C:\\Users\\parad\\anaconda3\\lib\\site-packages\\seaborn\\distributions.py:2619: FutureWarning: `distplot` is a deprecated function and will be removed in a future version. Please adapt your code to use either `displot` (a figure-level function with similar flexibility) or `histplot` (an axes-level function for histograms).\n",
      "  warnings.warn(msg, FutureWarning)\n"
     ]
    },
    {
     "data": {
      "image/png": "[encoded data removed]",
      "text/plain": [
       "<Figure size 432x288 with 1 Axes>"
      ]
     },
     "metadata": {
      "needs_background": "light"
     },
     "output_type": "display_data"
    }
   ],
   "source": [
    "sns.distplot(data['CPU GENERATION'])\n",
    "\n",
    "plt.show();"
   ]
  },
  {
   "cell_type": "code",
   "execution_count": 211,
   "id": "63607a2f",
   "metadata": {},
   "outputs": [
    {
     "name": "stderr",
     "output_type": "stream",
     "text": [
      "C:\\Users\\parad\\anaconda3\\lib\\site-packages\\seaborn\\distributions.py:2619: FutureWarning: `distplot` is a deprecated function and will be removed in a future version. Please adapt your code to use either `displot` (a figure-level function with similar flexibility) or `histplot` (an axes-level function for histograms).\n",
      "  warnings.warn(msg, FutureWarning)\n"
     ]
    },
    {
     "data": {
      "image/png": "[encoded data removed]",
      "text/plain": [
       "<Figure size 432x288 with 1 Axes>"
      ]
     },
     "metadata": {
      "needs_background": "light"
     },
     "output_type": "display_data"
    }
   ],
   "source": [
    "arr = data['SSD SIZE']\n",
    "sns.distplot([arr], hist=True)\n",
    "plt.show();"
   ]
  },
  {
   "cell_type": "code",
   "execution_count": 212,
   "id": "c59bb0d5",
   "metadata": {},
   "outputs": [
    {
     "name": "stderr",
     "output_type": "stream",
     "text": [
      "C:\\Users\\parad\\anaconda3\\lib\\site-packages\\seaborn\\distributions.py:2619: FutureWarning: `distplot` is a deprecated function and will be removed in a future version. Please adapt your code to use either `displot` (a figure-level function with similar flexibility) or `histplot` (an axes-level function for histograms).\n",
      "  warnings.warn(msg, FutureWarning)\n"
     ]
    },
    {
     "data": {
      "image/png": "[encoded data removed]",
      "text/plain": [
       "<Figure size 432x288 with 1 Axes>"
      ]
     },
     "metadata": {
      "needs_background": "light"
     },
     "output_type": "display_data"
    }
   ],
   "source": [
    "price = data['PRICE']\n",
    "sns.distplot([price], hist=True)\n",
    "plt.show();"
   ]
  },
  {
   "cell_type": "markdown",
   "id": "e8003c44",
   "metadata": {},
   "source": [
    "## PLOTTING A HISTOGRAM"
   ]
  },
  {
   "cell_type": "code",
   "execution_count": 213,
   "id": "c6a000f3",
   "metadata": {},
   "outputs": [
    {
     "data": {
      "image/png": "[encoded data removed]",
      "text/plain": [
       "<Figure size 432x288 with 1 Axes>"
      ]
     },
     "metadata": {
      "needs_background": "light"
     },
     "output_type": "display_data"
    }
   ],
   "source": [
    "data.hist(column = 'SCREEN SIZE');"
   ]
  },
  {
   "cell_type": "code",
   "execution_count": 214,
   "id": "2263053c",
   "metadata": {},
   "outputs": [
    {
     "data": {
      "image/png": "[encoded data removed]",
      "text/plain": [
       "<Figure size 432x288 with 1 Axes>"
      ]
     },
     "metadata": {
      "needs_background": "light"
     },
     "output_type": "display_data"
    }
   ],
   "source": [
    "data.hist(column = 'SSD SIZE');"
   ]
  },
  {
   "cell_type": "code",
   "execution_count": 215,
   "id": "688b7d97",
   "metadata": {},
   "outputs": [
    {
     "data": {
      "image/png": "[encoded data removed]",
      "text/plain": [
       "<Figure size 432x288 with 1 Axes>"
      ]
     },
     "metadata": {
      "needs_background": "light"
     },
     "output_type": "display_data"
    }
   ],
   "source": [
    "data.hist(column = 'HDD SIZE');"
   ]
  },
  {
   "cell_type": "code",
   "execution_count": 216,
   "id": "839d68b9",
   "metadata": {},
   "outputs": [
    {
     "data": {
      "image/png": "[encoded data removed]",
      "text/plain": [
       "<Figure size 432x288 with 1 Axes>"
      ]
     },
     "metadata": {
      "needs_background": "light"
     },
     "output_type": "display_data"
    }
   ],
   "source": [
    "data.hist(column = 'RAM SIZE', by = 'RAM(DDR) TYPE');"
   ]
  },
  {
   "cell_type": "code",
   "execution_count": 217,
   "id": "2ee89f1e",
   "metadata": {},
   "outputs": [
    {
     "data": {
      "image/png": "[encoded data removed]",
      "text/plain": [
       "<Figure size 432x288 with 9 Axes>"
      ]
     },
     "metadata": {
      "needs_background": "light"
     },
     "output_type": "display_data"
    }
   ],
   "source": [
    "data.hist(column = 'CPU GENERATION', by = 'BRAND');"
   ]
  },
  {
   "cell_type": "code",
   "execution_count": 218,
   "id": "17e20b25",
   "metadata": {},
   "outputs": [
    {
     "data": {
      "image/png": "[encoded data removed]",
      "text/plain": [
       "<Figure size 432x288 with 9 Axes>"
      ]
     },
     "metadata": {
      "needs_background": "light"
     },
     "output_type": "display_data"
    }
   ],
   "source": [
    "data.hist(column = 'GPU BRAND', by = 'BRAND');"
   ]
  },
  {
   "cell_type": "code",
   "execution_count": 219,
   "id": "6a64d8b7",
   "metadata": {},
   "outputs": [
    {
     "data": {
      "image/png": "[encoded data removed]",
      "text/plain": [
       "<Figure size 432x288 with 9 Axes>"
      ]
     },
     "metadata": {
      "needs_background": "light"
     },
     "output_type": "display_data"
    }
   ],
   "source": [
    "data.hist(column = 'SSD SIZE', by = 'BRAND');"
   ]
  },
  {
   "cell_type": "code",
   "execution_count": 220,
   "id": "9374531c",
   "metadata": {},
   "outputs": [
    {
     "data": {
      "image/png": "[encoded data removed]",
      "text/plain": [
       "<Figure size 432x288 with 9 Axes>"
      ]
     },
     "metadata": {
      "needs_background": "light"
     },
     "output_type": "display_data"
    }
   ],
   "source": [
    "data.hist(column = 'HDD SIZE', by = 'BRAND');"
   ]
  },
  {
   "cell_type": "code",
   "execution_count": 221,
   "id": "70c3f9e1",
   "metadata": {},
   "outputs": [
    {
     "data": {
      "image/png": "[encoded data removed]",
      "text/plain": [
       "<Figure size 432x288 with 9 Axes>"
      ]
     },
     "metadata": {
      "needs_background": "light"
     },
     "output_type": "display_data"
    }
   ],
   "source": [
    "data.hist(column = 'RAM SIZE', by = 'BRAND');"
   ]
  },
  {
   "cell_type": "code",
   "execution_count": 222,
   "id": "02012f03",
   "metadata": {},
   "outputs": [
    {
     "data": {
      "image/png": "[encoded data removed]",
      "text/plain": [
       "<Figure size 432x288 with 2 Axes>"
      ]
     },
     "metadata": {
      "needs_background": "light"
     },
     "output_type": "display_data"
    }
   ],
   "source": [
    "data.hist(column = 'CPU GENERATION', by = 'CPU BRAND');"
   ]
  },
  {
   "cell_type": "code",
   "execution_count": 223,
   "id": "8dcf72c3",
   "metadata": {},
   "outputs": [
    {
     "data": {
      "image/png": "[encoded data removed]",
      "text/plain": [
       "<Figure size 432x288 with 6 Axes>"
      ]
     },
     "metadata": {
      "needs_background": "light"
     },
     "output_type": "display_data"
    }
   ],
   "source": [
    "data.hist(column = 'CPU GENERATION', by = 'CPU CORE');"
   ]
  },
  {
   "cell_type": "markdown",
   "id": "4102b268",
   "metadata": {},
   "source": [
    "## PIE PLOT"
   ]
  },
  {
   "cell_type": "code",
   "execution_count": 224,
   "id": "535bd036",
   "metadata": {},
   "outputs": [
    {
     "data": {
      "image/png": "[encoded data removed]",
      "text/plain": [
       "<Figure size 432x288 with 1 Axes>"
      ]
     },
     "metadata": {},
     "output_type": "display_data"
    }
   ],
   "source": [
    "data['BRAND'].value_counts().plot.pie();"
   ]
  },
  {
   "cell_type": "code",
   "execution_count": 225,
   "id": "721edf4f",
   "metadata": {},
   "outputs": [
    {
     "data": {
      "image/png": "[encoded data removed]",
      "text/plain": [
       "<Figure size 432x288 with 1 Axes>"
      ]
     },
     "metadata": {},
     "output_type": "display_data"
    }
   ],
   "source": [
    "data['STATE'].value_counts().plot.pie();"
   ]
  },
  {
   "cell_type": "code",
   "execution_count": 226,
   "id": "39edd40e",
   "metadata": {},
   "outputs": [
    {
     "data": {
      "image/png": "[encoded data removed]",
      "text/plain": [
       "<Figure size 432x288 with 1 Axes>"
      ]
     },
     "metadata": {},
     "output_type": "display_data"
    }
   ],
   "source": [
    "data['DISK TYPE'].value_counts().plot.pie();"
   ]
  },
  {
   "cell_type": "code",
   "execution_count": 227,
   "id": "f3689650",
   "metadata": {},
   "outputs": [
    {
     "data": {
      "image/png": "[encoded data removed]",
      "text/plain": [
       "<Figure size 432x288 with 1 Axes>"
      ]
     },
     "metadata": {},
     "output_type": "display_data"
    }
   ],
   "source": [
    "data['RAM(DDR) TYPE'].value_counts().plot.pie();"
   ]
  },
  {
   "cell_type": "code",
   "execution_count": 228,
   "id": "4837b40e",
   "metadata": {},
   "outputs": [
    {
     "data": {
      "image/png": "[encoded data removed]",
      "text/plain": [
       "<Figure size 432x288 with 1 Axes>"
      ]
     },
     "metadata": {},
     "output_type": "display_data"
    }
   ],
   "source": [
    "data['CPU BRAND'].value_counts().plot.pie();"
   ]
  },
  {
   "cell_type": "code",
   "execution_count": 229,
   "id": "9824aba6",
   "metadata": {},
   "outputs": [
    {
     "data": {
      "image/png": "[encoded data removed]",
      "text/plain": [
       "<Figure size 432x288 with 1 Axes>"
      ]
     },
     "metadata": {},
     "output_type": "display_data"
    }
   ],
   "source": [
    "data['SSD SIZE'].value_counts().plot.pie();"
   ]
  },
  {
   "cell_type": "code",
   "execution_count": 230,
   "id": "5a5451bd",
   "metadata": {},
   "outputs": [
    {
     "data": {
      "image/png": "[encoded data removed]",
      "text/plain": [
       "<Figure size 432x288 with 1 Axes>"
      ]
     },
     "metadata": {},
     "output_type": "display_data"
    }
   ],
   "source": [
    "data['HDD SIZE'].value_counts().plot.pie();"
   ]
  },
  {
   "cell_type": "code",
   "execution_count": 231,
   "id": "30986445",
   "metadata": {},
   "outputs": [
    {
     "data": {
      "image/png": "[encoded data removed]",
      "text/plain": [
       "<Figure size 432x288 with 1 Axes>"
      ]
     },
     "metadata": {},
     "output_type": "display_data"
    }
   ],
   "source": [
    "data['RAM SIZE'].value_counts().plot.pie();"
   ]
  },
  {
   "cell_type": "code",
   "execution_count": 232,
   "id": "97b7bc20",
   "metadata": {},
   "outputs": [
    {
     "data": {
      "image/png": "[encoded data removed]",
      "text/plain": [
       "<Figure size 432x288 with 1 Axes>"
      ]
     },
     "metadata": {},
     "output_type": "display_data"
    }
   ],
   "source": [
    "data['GPU BRAND'].value_counts().plot.pie();"
   ]
  },
  {
   "cell_type": "code",
   "execution_count": null,
   "id": "cad4e0ee",
   "metadata": {},
   "outputs": [],
   "source": []
  }
 ],
 "metadata": {
  "kernelspec": {
   "display_name": "Python 3 (ipykernel)",
   "language": "python",
   "name": "python3"
  },
  "language_info": {
   "codemirror_mode": {
    "name": "ipython",
    "version": 3
   },
   "file_extension": ".py",
   "mimetype": "text/x-python",
   "name": "python",
   "nbconvert_exporter": "python",
   "pygments_lexer": "ipython3",
   "version": "3.9.12"
  }
 },
 "nbformat": 4,
 "nbformat_minor": 5
}
